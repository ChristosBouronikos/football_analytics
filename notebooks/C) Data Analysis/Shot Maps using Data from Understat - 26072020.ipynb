{
 "cells": [
  {
   "cell_type": "markdown",
   "metadata": {},
   "source": [
    "<a id='top'></a>"
   ]
  },
  {
   "cell_type": "markdown",
   "metadata": {},
   "source": [
    "# Shot Maps using Data from Understat\n",
    "##### Notebook on how to scrape raw data from [Understat.com](https://understat.com/) to produce shot maps.\n",
    "\n",
    "### By [Edd Webster](https://www.twitter.com/eddwebster)\n",
    "Last updated: 26/07/2020"
   ]
  },
  {
   "cell_type": "markdown",
   "metadata": {},
   "source": [
    "![title](../../img/understat-logo-banner.png)"
   ]
  },
  {
   "cell_type": "markdown",
   "metadata": {},
   "source": [
    "Click [here](#section5) to jump straight to the Exploratory Data Analysis section and skip the [Task Brief](#section2), [Data Sources](#section3), and [Data Engineering](#section4) sections. Or click [here](#section6) to jump straight to the Conclusion."
   ]
  },
  {
   "cell_type": "markdown",
   "metadata": {},
   "source": [
    "___\n",
    "\n",
    "<a id='sectionintro'></a>"
   ]
  },
  {
   "cell_type": "markdown",
   "metadata": {},
   "source": [
    "## <a id='import_libraries'>Introduction</a>\n",
    "This notebook is a short Exploratory Data Analysis (EDA) of scraped football statistics data from [FBref.com](https://fbref.com/en/), provided by [StatsBomb](https://statsbomb.com/), and [TransferMarkt](https://www.transfermarkt.co.uk/), using [pandas](http://pandas.pydata.org/) for data maniuplation through DataFrames, [Beautifulsoup](https://pypi.org/project/beautifulsoup4/) for webscraping, [RecordLinkage](https://pypi.org/project/recordlinkage/) to join the fuzzy data sets, and [matplotlib](https://matplotlib.org/) to create custom visualisations.\n",
    "\n",
    "For more information about this notebook and the author, I'm available through all the following channels:\n",
    "*    [eddwebster.com](https://www.eddwebster.com/),\n",
    "*    edd.j.webster@gmail.com,\n",
    "*    [@eddwebster](https://www.twitter.com/eddwebster),\n",
    "*    [LinkedIn.com/in/eddwebster](https://www.linkedin.com/in/eddwebster/),\n",
    "*    [GitHub/eddwebster](https://github.com/eddwebster/),\n",
    "*    [Kaggle.com/eddwebster](https://www.kaggle.com/eddwebster), and\n",
    "*    [HackerRank.com/eddwebster](https://www.hackerrank.com/eddwebster)."
   ]
  },
  {
   "cell_type": "markdown",
   "metadata": {},
   "source": [
    "![title](img/fifa20eddwebsterbanner.png)"
   ]
  },
  {
   "cell_type": "markdown",
   "metadata": {},
   "source": [
    "The accompanying GitHub repository for this notebook can be found [here](https://github.com/eddwebster/fifa-league) and a static version of this notebook can be found [here](https://nbviewer.jupyter.org/github/eddwebster/fifa-league/blob/master/FIFA%2020%20Fantasy%20Football%20League%20using%20TransferMarkt%20Player%20Valuations.ipynb)."
   ]
  },
  {
   "cell_type": "markdown",
   "metadata": {},
   "source": [
    "___\n",
    "\n",
    "<a id='sectioncontents'></a>"
   ]
  },
  {
   "cell_type": "markdown",
   "metadata": {},
   "source": [
    "## <a id='notebook_contents'>Notebook Contents</a>\n",
    "1.    [Notebook Dependencies](#section1)<br>\n",
    "2.    [Project Brief](#section2)<br>\n",
    "3.    [Data Sources](#section3)<br> \n",
    "4.    [Data Engineering](#section4)<br>\n",
    "      1.    [Introduction](#section4.1)<br>\n",
    "      2.    [Columns of Interest](#section4.2)<br>\n",
    "      3.    [String Cleaning](#section4.3)<br>\n",
    "      4.    [Converting Data Types](#section4.4)<br>\n",
    "      5.    [Export the Engineered DataFrame](#section4.5)<br>\n",
    "5.    [Exploratory Data Analysis (EDA)](#section5)<br>\n",
    "      1.    [...](#section5.1)<br>\n",
    "      2.    [...](#section5.2)<br>\n",
    "      3.    [...](#section5.3)<br>\n",
    "6.    [Summary](#section6)<br>\n",
    "7.    [Next Steps](#section7)<br>\n",
    "8.    [Bibliography](#section8)<br>"
   ]
  },
  {
   "cell_type": "markdown",
   "metadata": {},
   "source": [
    "___\n",
    "\n",
    "<a id='section1'></a>"
   ]
  },
  {
   "cell_type": "markdown",
   "metadata": {},
   "source": [
    "## <a id='#section1'>1. Notebook Dependencies</a>"
   ]
  },
  {
   "cell_type": "markdown",
   "metadata": {},
   "source": [
    "This notebook was written using [Python 3](https://docs.python.org/3.7/) and requires the following libraries:\n",
    "*    [`Jupyter notebooks`](https://jupyter.org/) for this notebook environment with which this project is presented;\n",
    "*    [`NumPy`](http://www.numpy.org/) for multidimensional array computing;\n",
    "*    [`pandas`](http://pandas.pydata.org/) for data analysis and manipulation;\n",
    "*    `tqdm` for a clean progress bar;\n",
    "*    `requests` for executing HTTP requests;\n",
    "*    [`Beautifulsoup`](https://pypi.org/project/beautifulsoup4/) for web scraping;\n",
    "*    [`RecordLinkage`](https://pypi.org/project/recordlinkage/) for joining of fuzzy datasets; and\n",
    "*    [`matplotlib`](https://matplotlib.org/contents.html?v=20200411155018) for data visualisations;\n",
    "\n",
    "All packages used for this notebook except for BeautifulSoup can be obtained by downloading and installing the [Conda](https://anaconda.org/anaconda/conda) distribution, available on all platforms (Windows, Linux and Mac OSX). Step-by-step guides on how to install Anaconda can be found for Windows [here](https://medium.com/@GalarnykMichael/install-python-on-windows-anaconda-c63c7c3d1444) and Mac [here](https://medium.com/@GalarnykMichael/install-python-on-mac-anaconda-ccd9f2014072), as well as in the Anaconda documentation itself [here](https://docs.anaconda.com/anaconda/install/)."
   ]
  },
  {
   "cell_type": "markdown",
   "metadata": {},
   "source": [
    "### Import Libraries and Modules"
   ]
  },
  {
   "cell_type": "code",
   "execution_count": 50,
   "metadata": {},
   "outputs": [
    {
     "name": "stdout",
     "output_type": "stream",
     "text": [
      "Setup Complete\n"
     ]
    }
   ],
   "source": [
    "# Python ≥3.5 (ideally)\n",
    "import platform\n",
    "import sys, getopt\n",
    "assert sys.version_info >= (3, 5)\n",
    "import csv\n",
    "\n",
    "# Import Dependencies\n",
    "%matplotlib inline\n",
    "\n",
    "# Math Operations\n",
    "import numpy as np\n",
    "from math import pi\n",
    "\n",
    "# Date and Time manipulation\n",
    "import datetime\n",
    "from datetime import datetime\n",
    "\n",
    "# Data Preprocessing\n",
    "import pandas as pd    # version 1.0.3\n",
    "import os    #  used to read the csv filenames\n",
    "import re\n",
    "import random\n",
    "from io import BytesIO\n",
    "from pathlib import Path\n",
    "\n",
    "# Reading directories\n",
    "import glob\n",
    "import os\n",
    "\n",
    "# Working with JSON\n",
    "import json\n",
    "from pandas.io.json import json_normalize\n",
    "\n",
    "# Web Scraping\n",
    "import requests\n",
    "from bs4 import BeautifulSoup\n",
    "import re\n",
    "\n",
    "\n",
    "# Football Libraries\n",
    "from FCPython import createPitch\n",
    "\n",
    "# Data Visualisation\n",
    "import matplotlib as mpl\n",
    "import matplotlib.pyplot as plt\n",
    "import seaborn as sns\n",
    "plt.style.use('seaborn-whitegrid')\n",
    "import missingno as msno    # visually display missing data\n",
    "\n",
    "# Machine Learning\n",
    "import scipy as sp\n",
    "from sklearn.linear_model import LinearRegression, LogisticRegression\n",
    "from sklearn.cluster import KMeans\n",
    "from sklearn.metrics import brier_score_loss, roc_auc_score    # version 0.22\n",
    "from xgboost import XGBClassifier   # version 1.0.2\n",
    "\n",
    "# Progress Bar\n",
    "from tqdm import tqdm    # a clean progress bar library\n",
    "\n",
    "# Display in Jupyter\n",
    "from IPython.display import Image, YouTubeVideo\n",
    "from IPython.core.display import HTML\n",
    "\n",
    "# Ignore Warnings\n",
    "import warnings\n",
    "warnings.filterwarnings(action=\"ignore\", message=\"^internal gelsd\")\n",
    "\n",
    "print(\"Setup Complete\")"
   ]
  },
  {
   "cell_type": "code",
   "execution_count": 4,
   "metadata": {
    "scrolled": false
   },
   "outputs": [
    {
     "name": "stdout",
     "output_type": "stream",
     "text": [
      "Python: 3.7.6\n",
      "NumPy: 1.18.1\n",
      "pandas: 1.0.1\n",
      "matplotlib: 3.1.3\n",
      "Seaborn: 0.10.0\n",
      "SciPy: 1.4.1\n"
     ]
    }
   ],
   "source": [
    "# Python / module versions used here for reference\n",
    "print('Python: {}'.format(platform.python_version()))\n",
    "print('NumPy: {}'.format(np.__version__))\n",
    "print('pandas: {}'.format(pd.__version__))\n",
    "print('matplotlib: {}'.format(mpl.__version__))\n",
    "print('Seaborn: {}'.format(sns.__version__))\n",
    "print('SciPy: {}'.format(sp.__version__))"
   ]
  },
  {
   "cell_type": "markdown",
   "metadata": {},
   "source": [
    "### Defined Variables and Lists"
   ]
  },
  {
   "cell_type": "code",
   "execution_count": 48,
   "metadata": {},
   "outputs": [],
   "source": [
    "#Size of the pitch in yards (!!!)\n",
    "pitchLengthX=120\n",
    "pitchWidthY=80"
   ]
  },
  {
   "cell_type": "markdown",
   "metadata": {},
   "source": [
    "### Define Data Paths"
   ]
  },
  {
   "cell_type": "code",
   "execution_count": 6,
   "metadata": {
    "scrolled": true
   },
   "outputs": [],
   "source": [
    "# Set up initial paths to subfolders\n",
    "base_dir = os.path.join('.')\n",
    "data_dir = os.path.join(base_dir, 'data')\n",
    "data_dir_fbref = os.path.join(base_dir, 'data', 'fbref')\n",
    "data_dir_tm = os.path.join(base_dir, 'data', 'tm')\n",
    "img_dir = os.path.join(base_dir, 'img')\n",
    "fig_dir = os.path.join(base_dir, 'img', 'fig')\n",
    "video_dir = os.path.join(base_dir, 'video')"
   ]
  },
  {
   "cell_type": "markdown",
   "metadata": {},
   "source": [
    "### Custom Functions"
   ]
  },
  {
   "cell_type": "code",
   "execution_count": 68,
   "metadata": {},
   "outputs": [],
   "source": [
    "def draw_pitch(pitch, line, orientation,view):\n",
    "    \n",
    "    orientation = orientation\n",
    "    view = view\n",
    "    line = line\n",
    "    pitch = pitch\n",
    "    \n",
    "    if orientation.lower().startswith(\"h\"):\n",
    "        \n",
    "        if view.lower().startswith(\"h\"):\n",
    "            fig,ax = plt.subplots(figsize=(6.8,10.4))\n",
    "            plt.xlim(49,105)\n",
    "            plt.ylim(-1,69)\n",
    "        else:\n",
    "            fig,ax = plt.subplots(figsize=(10.4,6.8))\n",
    "            plt.xlim(-1,105)\n",
    "            plt.ylim(-1,69)\n",
    "        ax.axis('off') # this hides the x and y ticks\n",
    "    \n",
    "        # side and goal lines #\n",
    "        ly1 = [0,0,68,68,0]\n",
    "        lx1 = [0,104,104,0,0]\n",
    "\n",
    "        plt.plot(lx1,ly1,color=line,zorder=5)\n",
    "\n",
    "\n",
    "        # boxes, 6 yard box and goals\n",
    "\n",
    "            #outer boxes#\n",
    "        ly2 = [13.84,13.84,54.16,54.16] \n",
    "        lx2 = [104,87.5,87.5,104]\n",
    "        plt.plot(lx2,ly2,color=line,zorder=5)\n",
    "\n",
    "        ly3 = [13.84,13.84,54.16,54.16] \n",
    "        lx3 = [0,16.5,16.5,0]\n",
    "        plt.plot(lx3,ly3,color=line,zorder=5)\n",
    "\n",
    "            #goals#\n",
    "        ly4 = [30.34,30.34,37.66,37.66]\n",
    "        lx4 = [104,104.2,104.2,104]\n",
    "        plt.plot(lx4,ly4,color=line,zorder=5)\n",
    "\n",
    "        ly5 = [30.34,30.34,37.66,37.66]\n",
    "        lx5 = [0,-0.2,-0.2,0]\n",
    "        plt.plot(lx5,ly5,color=line,zorder=5)\n",
    "\n",
    "\n",
    "           #6 yard boxes#\n",
    "        ly6 = [24.84,24.84,43.16,43.16]\n",
    "        lx6 = [104,99.5,99.5,104]\n",
    "        plt.plot(lx6,ly6,color=line,zorder=5)\n",
    "\n",
    "        ly7 = [24.84,24.84,43.16,43.16]\n",
    "        lx7 = [0,4.5,4.5,0]\n",
    "        plt.plot(lx7,ly7,color=line,zorder=5)\n",
    "\n",
    "        #Halfway line, penalty spots, and kickoff spot\n",
    "        ly8 = [0,68] \n",
    "        lx8 = [52,52]\n",
    "        plt.plot(lx8,ly8,color=line,zorder=5)\n",
    "\n",
    "\n",
    "        plt.scatter(93,34,color=line,zorder=5)\n",
    "        plt.scatter(11,34,color=line,zorder=5)\n",
    "        plt.scatter(52,34,color=line,zorder=5)\n",
    "\n",
    "        circle1 = plt.Circle((93.5,34), 9.15,ls='solid',lw=1.5,color=line, fill=False, zorder=1,alpha=1)\n",
    "        circle2 = plt.Circle((10.5,34), 9.15,ls='solid',lw=1.5,color=line, fill=False, zorder=1,alpha=1)\n",
    "        circle3 = plt.Circle((52, 34), 9.15,ls='solid',lw=1.5,color=line, fill=False, zorder=2,alpha=1)\n",
    "\n",
    "        ## Rectangles in boxes\n",
    "        rec1 = plt.Rectangle((87.5,20), 16,30,ls='-',color=pitch, zorder=1,alpha=1)\n",
    "        rec2 = plt.Rectangle((0, 20), 16.5,30,ls='-',color=pitch, zorder=1,alpha=1)\n",
    "\n",
    "        ## Pitch rectangle\n",
    "        rec3 = plt.Rectangle((-1, -1), 106,70,ls='-',color=pitch, zorder=1,alpha=1)\n",
    "\n",
    "        ax.add_artist(rec3)\n",
    "        ax.add_artist(circle1)\n",
    "        ax.add_artist(circle2)\n",
    "        ax.add_artist(rec1)\n",
    "        ax.add_artist(rec2)\n",
    "        ax.add_artist(circle3)\n",
    "        \n",
    "    else:\n",
    "        if view.lower().startswith(\"h\"):\n",
    "            fig,ax = plt.subplots(figsize=(10.4,6.8))\n",
    "            plt.ylim(49,105)\n",
    "            plt.xlim(-1,69)\n",
    "        else:\n",
    "            fig,ax = plt.subplots(figsize=(6.8,10.4))\n",
    "            plt.ylim(-1,105)\n",
    "            plt.xlim(-1,69)\n",
    "        ax.axis('off') # this hides the x and y ticks\n",
    "\n",
    "        # side and goal lines #\n",
    "        lx1 = [0,0,68,68,0]\n",
    "        ly1 = [0,104,104,0,0]\n",
    "\n",
    "        plt.plot(lx1,ly1,color=line,zorder=5)\n",
    "\n",
    "\n",
    "        # boxes, 6 yard box and goals\n",
    "\n",
    "            #outer boxes#\n",
    "        lx2 = [13.84,13.84,54.16,54.16] \n",
    "        ly2 = [104,87.5,87.5,104]\n",
    "        plt.plot(lx2,ly2,color=line,zorder=5)\n",
    "\n",
    "        lx3 = [13.84,13.84,54.16,54.16] \n",
    "        ly3 = [0,16.5,16.5,0]\n",
    "        plt.plot(lx3,ly3,color=line,zorder=5)\n",
    "\n",
    "            #goals#\n",
    "        lx4 = [30.34,30.34,37.66,37.66]\n",
    "        ly4 = [104,104.2,104.2,104]\n",
    "        plt.plot(lx4,ly4,color=line,zorder=5)\n",
    "\n",
    "        lx5 = [30.34,30.34,37.66,37.66]\n",
    "        ly5 = [0,-0.2,-0.2,0]\n",
    "        plt.plot(lx5,ly5,color=line,zorder=5)\n",
    "\n",
    "\n",
    "           #6 yard boxes#\n",
    "        lx6 = [24.84,24.84,43.16,43.16]\n",
    "        ly6 = [104,99.5,99.5,104]\n",
    "        plt.plot(lx6,ly6,color=line,zorder=5)\n",
    "\n",
    "        lx7 = [24.84,24.84,43.16,43.16]\n",
    "        ly7 = [0,4.5,4.5,0]\n",
    "        plt.plot(lx7,ly7,color=line,zorder=5)\n",
    "\n",
    "        #Halfway line, penalty spots, and kickoff spot\n",
    "        lx8 = [0,68] \n",
    "        ly8 = [52,52]\n",
    "        plt.plot(lx8,ly8,color=line,zorder=5)\n",
    "\n",
    "\n",
    "        plt.scatter(34,93,color=line,zorder=5)\n",
    "        plt.scatter(34,11,color=line,zorder=5)\n",
    "        plt.scatter(34,52,color=line,zorder=5)\n",
    "\n",
    "        circle1 = plt.Circle((34,93.5), 9.15,ls='solid',lw=1.5,color=line, fill=False, zorder=1,alpha=1)\n",
    "        circle2 = plt.Circle((34,10.5), 9.15,ls='solid',lw=1.5,color=line, fill=False, zorder=1,alpha=1)\n",
    "        circle3 = plt.Circle((34,52), 9.15,ls='solid',lw=1.5,color=line, fill=False, zorder=2,alpha=1)\n",
    "\n",
    "\n",
    "        ## Rectangles in boxes\n",
    "        rec1 = plt.Rectangle((20, 87.5), 30,16.5,ls='-',color=pitch, zorder=1,alpha=1)\n",
    "        rec2 = plt.Rectangle((20, 0), 30,16.5,ls='-',color=pitch, zorder=1,alpha=1)\n",
    "\n",
    "        ## Pitch rectangle\n",
    "        rec3 = plt.Rectangle((-1, -1), 70,106,ls='-',color=pitch, zorder=1,alpha=1)\n",
    "\n",
    "        ax.add_artist(rec3)\n",
    "        ax.add_artist(circle1)\n",
    "        ax.add_artist(circle2)\n",
    "        ax.add_artist(rec1)\n",
    "        ax.add_artist(rec2)\n",
    "        ax.add_artist(circle3)"
   ]
  },
  {
   "cell_type": "markdown",
   "metadata": {},
   "source": [
    "---\n",
    "\n",
    "<a id='section2'></a>"
   ]
  },
  {
   "cell_type": "markdown",
   "metadata": {},
   "source": [
    "## <a id='#section2'>2. Project Brief</a>\n",
    "This Jupyter notebook explores how to create shot maps from data scraped from [Understat.com](https://understat.com/), using [pandas](http://pandas.pydata.org/) for data manipulation through DataFrames, [Beautifulsoup](https://pypi.org/project/beautifulsoup4/) for webscraping and [matplotlib](https://matplotlib.org/) to create custom visualisations. \n",
    "\n",
    "This notebooks produces CSV files of shot data that can be further analysis using Python (see [Section 5](#section5) of this notebook), or can be explored using Tableau, PowerBI, Microsoft Excel. These datasets are the following.\n",
    "\n",
    "These [Understat.com](https://understat.com/) webscraper is available in both Python and R. The R version was written by [Euan Dewar]() and is available in his GitHub repository [here](https://github.com/ewenme/understatr). The Python version was written by [Amos Bastian](https://github.com/amosbastian) and is available in his GitHub repository [here](https://github.com/amosbastian/understat). The official documentation for Amos' Understat package can be found [here](https://understat.readthedocs.io/en/latest/)."
   ]
  },
  {
   "cell_type": "markdown",
   "metadata": {},
   "source": [
    "---\n",
    "\n",
    "<a id='section3'></a>"
   ]
  },
  {
   "cell_type": "markdown",
   "metadata": {},
   "source": [
    "## <a id='#section3'>3. Data Sources</a>"
   ]
  },
  {
   "cell_type": "markdown",
   "metadata": {},
   "source": [
    "### <a id='#section3.1'>3.1. Introduction</a>\n",
    "Before conducting our EDA, the data needs to be imported as a DataFrame in the Data Sources section [Section 3](#section3) and Cleaned in the Data Engineering section [Section 4](#section4).\n",
    "\n",
    "We'll be using the [pandas](http://pandas.pydata.org/) library to import our data to this workbook as a DataFrame."
   ]
  },
  {
   "cell_type": "markdown",
   "metadata": {},
   "source": [
    "### <a id='#section3.2.'>3.2. Data Dictionary</a>\n",
    "The raw dataset has one hundred and eighty eight features (columns) with the following definitions and data types:\n",
    "\n",
    "| Variable     | Data Type    | Description    |\n",
    "|------|-----|-----|\n",
    "| `squad`    | object    | Squad name e.g. Arsenal    |\n",
    "| `players_used`    | float64    | Number of Players used in Games    |\n",
    "| `possession`    | float64    | Percentage of time with possession of the ball    |\n",
    "| `games`    | float64    | <b>Matches Played</b>. Matches Played by the player or squad    |\n",
    "| `games_starts`    | float64    | <b>Starts</b>. Game or games started by player    |\n",
    "\n",
    "<br>\n",
    "The features will be cleaned, converted and also additional features will be created in the [Data Engineering](#section4) section (Section 4)."
   ]
  },
  {
   "cell_type": "code",
   "execution_count": 137,
   "metadata": {},
   "outputs": [],
   "source": [
    "df_liverpool_2019 = pd.read_csv(data_dir + '/Liverpool2019shots.csv')"
   ]
  },
  {
   "cell_type": "markdown",
   "metadata": {},
   "source": [
    "### <a id='#section3.2.'>3.3. Preliminary Data Handling</a>\n",
    "Let's quality of the dataset by looking first and last rows in pandas using the [head()](https://pandas.pydata.org/pandas-docs/stable/reference/api/pandas.DataFrame.head.html) and [tail()](https://pandas.pydata.org/pandas-docs/stable/reference/api/pandas.DataFrame.tail.html) methods."
   ]
  },
  {
   "cell_type": "code",
   "execution_count": 10,
   "metadata": {
    "scrolled": true
   },
   "outputs": [
    {
     "data": {
      "text/html": [
       "<div>\n",
       "<style scoped>\n",
       "    .dataframe tbody tr th:only-of-type {\n",
       "        vertical-align: middle;\n",
       "    }\n",
       "\n",
       "    .dataframe tbody tr th {\n",
       "        vertical-align: top;\n",
       "    }\n",
       "\n",
       "    .dataframe thead th {\n",
       "        text-align: right;\n",
       "    }\n",
       "</style>\n",
       "<table border=\"1\" class=\"dataframe\">\n",
       "  <thead>\n",
       "    <tr style=\"text-align: right;\">\n",
       "      <th></th>\n",
       "      <th>id</th>\n",
       "      <th>minute</th>\n",
       "      <th>result</th>\n",
       "      <th>X</th>\n",
       "      <th>Y</th>\n",
       "      <th>xG</th>\n",
       "      <th>player</th>\n",
       "      <th>h_a</th>\n",
       "      <th>player_id</th>\n",
       "      <th>situation</th>\n",
       "      <th>year</th>\n",
       "      <th>shotType</th>\n",
       "      <th>match_id</th>\n",
       "      <th>h_team</th>\n",
       "      <th>a_team</th>\n",
       "      <th>h_goals</th>\n",
       "      <th>a_goals</th>\n",
       "      <th>date</th>\n",
       "      <th>player_assisted</th>\n",
       "      <th>lastAction</th>\n",
       "    </tr>\n",
       "  </thead>\n",
       "  <tbody>\n",
       "    <tr>\n",
       "      <th>0</th>\n",
       "      <td>309898</td>\n",
       "      <td>18</td>\n",
       "      <td>Goal</td>\n",
       "      <td>0.933</td>\n",
       "      <td>0.367</td>\n",
       "      <td>0.366817</td>\n",
       "      <td>Mohamed Salah</td>\n",
       "      <td>h</td>\n",
       "      <td>1250</td>\n",
       "      <td>OpenPlay</td>\n",
       "      <td>2019</td>\n",
       "      <td>LeftFoot</td>\n",
       "      <td>11643</td>\n",
       "      <td>Liverpool</td>\n",
       "      <td>Norwich</td>\n",
       "      <td>4</td>\n",
       "      <td>1</td>\n",
       "      <td>2019-08-09 20:00:00</td>\n",
       "      <td>Roberto Firmino</td>\n",
       "      <td>Pass</td>\n",
       "    </tr>\n",
       "    <tr>\n",
       "      <th>1</th>\n",
       "      <td>309908</td>\n",
       "      <td>53</td>\n",
       "      <td>MissedShots</td>\n",
       "      <td>0.880</td>\n",
       "      <td>0.339</td>\n",
       "      <td>0.077992</td>\n",
       "      <td>Mohamed Salah</td>\n",
       "      <td>h</td>\n",
       "      <td>1250</td>\n",
       "      <td>OpenPlay</td>\n",
       "      <td>2019</td>\n",
       "      <td>LeftFoot</td>\n",
       "      <td>11643</td>\n",
       "      <td>Liverpool</td>\n",
       "      <td>Norwich</td>\n",
       "      <td>4</td>\n",
       "      <td>1</td>\n",
       "      <td>2019-08-09 20:00:00</td>\n",
       "      <td>Fabinho</td>\n",
       "      <td>BallRecovery</td>\n",
       "    </tr>\n",
       "    <tr>\n",
       "      <th>2</th>\n",
       "      <td>310445</td>\n",
       "      <td>32</td>\n",
       "      <td>MissedShots</td>\n",
       "      <td>0.939</td>\n",
       "      <td>0.721</td>\n",
       "      <td>0.041742</td>\n",
       "      <td>Mohamed Salah</td>\n",
       "      <td>a</td>\n",
       "      <td>1250</td>\n",
       "      <td>OpenPlay</td>\n",
       "      <td>2019</td>\n",
       "      <td>LeftFoot</td>\n",
       "      <td>11658</td>\n",
       "      <td>Southampton</td>\n",
       "      <td>Liverpool</td>\n",
       "      <td>1</td>\n",
       "      <td>2</td>\n",
       "      <td>2019-08-17 15:00:00</td>\n",
       "      <td>Alex Oxlade-Chamberlain</td>\n",
       "      <td>Chipped</td>\n",
       "    </tr>\n",
       "    <tr>\n",
       "      <th>3</th>\n",
       "      <td>310449</td>\n",
       "      <td>49</td>\n",
       "      <td>BlockedShot</td>\n",
       "      <td>0.801</td>\n",
       "      <td>0.310</td>\n",
       "      <td>0.071200</td>\n",
       "      <td>Mohamed Salah</td>\n",
       "      <td>a</td>\n",
       "      <td>1250</td>\n",
       "      <td>DirectFreekick</td>\n",
       "      <td>2019</td>\n",
       "      <td>LeftFoot</td>\n",
       "      <td>11658</td>\n",
       "      <td>Southampton</td>\n",
       "      <td>Liverpool</td>\n",
       "      <td>1</td>\n",
       "      <td>2</td>\n",
       "      <td>2019-08-17 15:00:00</td>\n",
       "      <td>NaN</td>\n",
       "      <td>Standard</td>\n",
       "    </tr>\n",
       "    <tr>\n",
       "      <th>4</th>\n",
       "      <td>310454</td>\n",
       "      <td>55</td>\n",
       "      <td>SavedShot</td>\n",
       "      <td>0.923</td>\n",
       "      <td>0.357</td>\n",
       "      <td>0.300783</td>\n",
       "      <td>Mohamed Salah</td>\n",
       "      <td>a</td>\n",
       "      <td>1250</td>\n",
       "      <td>OpenPlay</td>\n",
       "      <td>2019</td>\n",
       "      <td>LeftFoot</td>\n",
       "      <td>11658</td>\n",
       "      <td>Southampton</td>\n",
       "      <td>Liverpool</td>\n",
       "      <td>1</td>\n",
       "      <td>2</td>\n",
       "      <td>2019-08-17 15:00:00</td>\n",
       "      <td>Sadio Mané</td>\n",
       "      <td>Chipped</td>\n",
       "    </tr>\n",
       "  </tbody>\n",
       "</table>\n",
       "</div>"
      ],
      "text/plain": [
       "       id  minute       result      X      Y        xG         player h_a  \\\n",
       "0  309898      18         Goal  0.933  0.367  0.366817  Mohamed Salah   h   \n",
       "1  309908      53  MissedShots  0.880  0.339  0.077992  Mohamed Salah   h   \n",
       "2  310445      32  MissedShots  0.939  0.721  0.041742  Mohamed Salah   a   \n",
       "3  310449      49  BlockedShot  0.801  0.310  0.071200  Mohamed Salah   a   \n",
       "4  310454      55    SavedShot  0.923  0.357  0.300783  Mohamed Salah   a   \n",
       "\n",
       "   player_id       situation  year  shotType  match_id       h_team  \\\n",
       "0       1250        OpenPlay  2019  LeftFoot     11643    Liverpool   \n",
       "1       1250        OpenPlay  2019  LeftFoot     11643    Liverpool   \n",
       "2       1250        OpenPlay  2019  LeftFoot     11658  Southampton   \n",
       "3       1250  DirectFreekick  2019  LeftFoot     11658  Southampton   \n",
       "4       1250        OpenPlay  2019  LeftFoot     11658  Southampton   \n",
       "\n",
       "      a_team  h_goals  a_goals                 date          player_assisted  \\\n",
       "0    Norwich        4        1  2019-08-09 20:00:00          Roberto Firmino   \n",
       "1    Norwich        4        1  2019-08-09 20:00:00                  Fabinho   \n",
       "2  Liverpool        1        2  2019-08-17 15:00:00  Alex Oxlade-Chamberlain   \n",
       "3  Liverpool        1        2  2019-08-17 15:00:00                      NaN   \n",
       "4  Liverpool        1        2  2019-08-17 15:00:00               Sadio Mané   \n",
       "\n",
       "     lastAction  \n",
       "0          Pass  \n",
       "1  BallRecovery  \n",
       "2       Chipped  \n",
       "3      Standard  \n",
       "4       Chipped  "
      ]
     },
     "execution_count": 10,
     "metadata": {},
     "output_type": "execute_result"
    }
   ],
   "source": [
    "# Display the first 5 rows of the raw DataFrame, df_fbref_team_top5_1920_raw\n",
    "df_liverpool_2019.head()"
   ]
  },
  {
   "cell_type": "code",
   "execution_count": 11,
   "metadata": {},
   "outputs": [
    {
     "data": {
      "text/html": [
       "<div>\n",
       "<style scoped>\n",
       "    .dataframe tbody tr th:only-of-type {\n",
       "        vertical-align: middle;\n",
       "    }\n",
       "\n",
       "    .dataframe tbody tr th {\n",
       "        vertical-align: top;\n",
       "    }\n",
       "\n",
       "    .dataframe thead th {\n",
       "        text-align: right;\n",
       "    }\n",
       "</style>\n",
       "<table border=\"1\" class=\"dataframe\">\n",
       "  <thead>\n",
       "    <tr style=\"text-align: right;\">\n",
       "      <th></th>\n",
       "      <th>id</th>\n",
       "      <th>minute</th>\n",
       "      <th>result</th>\n",
       "      <th>X</th>\n",
       "      <th>Y</th>\n",
       "      <th>xG</th>\n",
       "      <th>player</th>\n",
       "      <th>h_a</th>\n",
       "      <th>player_id</th>\n",
       "      <th>situation</th>\n",
       "      <th>year</th>\n",
       "      <th>shotType</th>\n",
       "      <th>match_id</th>\n",
       "      <th>h_team</th>\n",
       "      <th>a_team</th>\n",
       "      <th>h_goals</th>\n",
       "      <th>a_goals</th>\n",
       "      <th>date</th>\n",
       "      <th>player_assisted</th>\n",
       "      <th>lastAction</th>\n",
       "    </tr>\n",
       "  </thead>\n",
       "  <tbody>\n",
       "    <tr>\n",
       "      <th>555</th>\n",
       "      <td>369038</td>\n",
       "      <td>85</td>\n",
       "      <td>MissedShots</td>\n",
       "      <td>0.690</td>\n",
       "      <td>0.454</td>\n",
       "      <td>0.016793</td>\n",
       "      <td>Curtis Jones</td>\n",
       "      <td>h</td>\n",
       "      <td>6665</td>\n",
       "      <td>OpenPlay</td>\n",
       "      <td>2019</td>\n",
       "      <td>LeftFoot</td>\n",
       "      <td>11966</td>\n",
       "      <td>Liverpool</td>\n",
       "      <td>Aston Villa</td>\n",
       "      <td>2</td>\n",
       "      <td>0</td>\n",
       "      <td>2020-07-05 15:30:00</td>\n",
       "      <td>Georginio Wijnaldum</td>\n",
       "      <td>Pass</td>\n",
       "    </tr>\n",
       "    <tr>\n",
       "      <th>556</th>\n",
       "      <td>369039</td>\n",
       "      <td>88</td>\n",
       "      <td>Goal</td>\n",
       "      <td>0.912</td>\n",
       "      <td>0.449</td>\n",
       "      <td>0.380632</td>\n",
       "      <td>Curtis Jones</td>\n",
       "      <td>h</td>\n",
       "      <td>6665</td>\n",
       "      <td>OpenPlay</td>\n",
       "      <td>2019</td>\n",
       "      <td>RightFoot</td>\n",
       "      <td>11966</td>\n",
       "      <td>Liverpool</td>\n",
       "      <td>Aston Villa</td>\n",
       "      <td>2</td>\n",
       "      <td>0</td>\n",
       "      <td>2020-07-05 15:30:00</td>\n",
       "      <td>Mohamed Salah</td>\n",
       "      <td>HeadPass</td>\n",
       "    </tr>\n",
       "    <tr>\n",
       "      <th>557</th>\n",
       "      <td>370418</td>\n",
       "      <td>16</td>\n",
       "      <td>SavedShot</td>\n",
       "      <td>0.869</td>\n",
       "      <td>0.551</td>\n",
       "      <td>0.095451</td>\n",
       "      <td>Curtis Jones</td>\n",
       "      <td>h</td>\n",
       "      <td>6665</td>\n",
       "      <td>OpenPlay</td>\n",
       "      <td>2019</td>\n",
       "      <td>LeftFoot</td>\n",
       "      <td>11986</td>\n",
       "      <td>Liverpool</td>\n",
       "      <td>Burnley</td>\n",
       "      <td>1</td>\n",
       "      <td>1</td>\n",
       "      <td>2020-07-11 14:00:00</td>\n",
       "      <td>Roberto Firmino</td>\n",
       "      <td>Pass</td>\n",
       "    </tr>\n",
       "    <tr>\n",
       "      <th>558</th>\n",
       "      <td>370420</td>\n",
       "      <td>20</td>\n",
       "      <td>BlockedShot</td>\n",
       "      <td>0.868</td>\n",
       "      <td>0.530</td>\n",
       "      <td>0.112289</td>\n",
       "      <td>Curtis Jones</td>\n",
       "      <td>h</td>\n",
       "      <td>6665</td>\n",
       "      <td>OpenPlay</td>\n",
       "      <td>2019</td>\n",
       "      <td>RightFoot</td>\n",
       "      <td>11986</td>\n",
       "      <td>Liverpool</td>\n",
       "      <td>Burnley</td>\n",
       "      <td>1</td>\n",
       "      <td>1</td>\n",
       "      <td>2020-07-11 14:00:00</td>\n",
       "      <td>Sadio Mané</td>\n",
       "      <td>Pass</td>\n",
       "    </tr>\n",
       "    <tr>\n",
       "      <th>559</th>\n",
       "      <td>370429</td>\n",
       "      <td>50</td>\n",
       "      <td>MissedShots</td>\n",
       "      <td>0.855</td>\n",
       "      <td>0.581</td>\n",
       "      <td>0.129922</td>\n",
       "      <td>Curtis Jones</td>\n",
       "      <td>h</td>\n",
       "      <td>6665</td>\n",
       "      <td>OpenPlay</td>\n",
       "      <td>2019</td>\n",
       "      <td>LeftFoot</td>\n",
       "      <td>11986</td>\n",
       "      <td>Liverpool</td>\n",
       "      <td>Burnley</td>\n",
       "      <td>1</td>\n",
       "      <td>1</td>\n",
       "      <td>2020-07-11 14:00:00</td>\n",
       "      <td>Mohamed Salah</td>\n",
       "      <td>Pass</td>\n",
       "    </tr>\n",
       "  </tbody>\n",
       "</table>\n",
       "</div>"
      ],
      "text/plain": [
       "         id  minute       result      X      Y        xG        player h_a  \\\n",
       "555  369038      85  MissedShots  0.690  0.454  0.016793  Curtis Jones   h   \n",
       "556  369039      88         Goal  0.912  0.449  0.380632  Curtis Jones   h   \n",
       "557  370418      16    SavedShot  0.869  0.551  0.095451  Curtis Jones   h   \n",
       "558  370420      20  BlockedShot  0.868  0.530  0.112289  Curtis Jones   h   \n",
       "559  370429      50  MissedShots  0.855  0.581  0.129922  Curtis Jones   h   \n",
       "\n",
       "     player_id situation  year   shotType  match_id     h_team       a_team  \\\n",
       "555       6665  OpenPlay  2019   LeftFoot     11966  Liverpool  Aston Villa   \n",
       "556       6665  OpenPlay  2019  RightFoot     11966  Liverpool  Aston Villa   \n",
       "557       6665  OpenPlay  2019   LeftFoot     11986  Liverpool      Burnley   \n",
       "558       6665  OpenPlay  2019  RightFoot     11986  Liverpool      Burnley   \n",
       "559       6665  OpenPlay  2019   LeftFoot     11986  Liverpool      Burnley   \n",
       "\n",
       "     h_goals  a_goals                 date      player_assisted lastAction  \n",
       "555        2        0  2020-07-05 15:30:00  Georginio Wijnaldum       Pass  \n",
       "556        2        0  2020-07-05 15:30:00        Mohamed Salah   HeadPass  \n",
       "557        1        1  2020-07-11 14:00:00      Roberto Firmino       Pass  \n",
       "558        1        1  2020-07-11 14:00:00           Sadio Mané       Pass  \n",
       "559        1        1  2020-07-11 14:00:00        Mohamed Salah       Pass  "
      ]
     },
     "execution_count": 11,
     "metadata": {},
     "output_type": "execute_result"
    }
   ],
   "source": [
    "# Display the last 5 rows of the raw DataFrame, df_liverpool_2019 \n",
    "df_liverpool_2019.tail()"
   ]
  },
  {
   "cell_type": "markdown",
   "metadata": {},
   "source": [
    "[shape](https://pandas.pydata.org/pandas-docs/stable/reference/api/pandas.DataFrame.dtypes.html) returns a tuple representing the dimensionality of the DataFrame."
   ]
  },
  {
   "cell_type": "code",
   "execution_count": 12,
   "metadata": {},
   "outputs": [
    {
     "name": "stdout",
     "output_type": "stream",
     "text": [
      "(560, 20)\n"
     ]
    }
   ],
   "source": [
    "# Print the shape of the raw DataFrame, df_fbref_team_top5_1920_raw\n",
    "print(df_liverpool_2019.shape)"
   ]
  },
  {
   "cell_type": "markdown",
   "metadata": {},
   "source": [
    "The raw DataFrame has:\n",
    "*    744 observations (rows), each observation represents one individual tourist stranded in Peru, and\n",
    "*    20 attributes (columns)."
   ]
  },
  {
   "cell_type": "markdown",
   "metadata": {},
   "source": [
    "[columns](https://pandas.pydata.org/pandas-docs/stable/reference/api/pandas.DataFrame.columns.html) returns the column labels of the DataFrame."
   ]
  },
  {
   "cell_type": "code",
   "execution_count": 13,
   "metadata": {},
   "outputs": [
    {
     "data": {
      "text/plain": [
       "Index(['id', 'minute', 'result', 'X', 'Y', 'xG', 'player', 'h_a', 'player_id',\n",
       "       'situation', 'year', 'shotType', 'match_id', 'h_team', 'a_team',\n",
       "       'h_goals', 'a_goals', 'date', 'player_assisted', 'lastAction'],\n",
       "      dtype='object')"
      ]
     },
     "execution_count": 13,
     "metadata": {},
     "output_type": "execute_result"
    }
   ],
   "source": [
    "# Features (column names) of the raw DataFrame, ddf_liverpool_2019 \n",
    "df_liverpool_2019.columns"
   ]
  },
  {
   "cell_type": "markdown",
   "metadata": {},
   "source": [
    "The [dtypes](https://pandas.pydata.org/pandas-docs/stable/reference/api/pandas.DataFrame.dtypes.html) method returns the data types of each attribute in the DataFrame."
   ]
  },
  {
   "cell_type": "code",
   "execution_count": 14,
   "metadata": {
    "scrolled": true
   },
   "outputs": [
    {
     "data": {
      "text/plain": [
       "id                   int64\n",
       "minute               int64\n",
       "result              object\n",
       "X                  float64\n",
       "Y                  float64\n",
       "xG                 float64\n",
       "player              object\n",
       "h_a                 object\n",
       "player_id            int64\n",
       "situation           object\n",
       "year                 int64\n",
       "shotType            object\n",
       "match_id             int64\n",
       "h_team              object\n",
       "a_team              object\n",
       "h_goals              int64\n",
       "a_goals              int64\n",
       "date                object\n",
       "player_assisted     object\n",
       "lastAction          object\n",
       "dtype: object"
      ]
     },
     "execution_count": 14,
     "metadata": {},
     "output_type": "execute_result"
    }
   ],
   "source": [
    "# Data types of the features of the raw DataFrame, df_liverpool_2019\n",
    "df_liverpool_2019.dtypes"
   ]
  },
  {
   "cell_type": "code",
   "execution_count": 15,
   "metadata": {},
   "outputs": [
    {
     "name": "stdout",
     "output_type": "stream",
     "text": [
      "id                   int64\n",
      "minute               int64\n",
      "result              object\n",
      "X                  float64\n",
      "Y                  float64\n",
      "xG                 float64\n",
      "player              object\n",
      "h_a                 object\n",
      "player_id            int64\n",
      "situation           object\n",
      "year                 int64\n",
      "shotType            object\n",
      "match_id             int64\n",
      "h_team              object\n",
      "a_team              object\n",
      "h_goals              int64\n",
      "a_goals              int64\n",
      "date                object\n",
      "player_assisted     object\n",
      "lastAction          object\n",
      "dtype: object\n"
     ]
    }
   ],
   "source": [
    "# Displays all one hundered and four columns, commented out but shown for reference\n",
    "with pd.option_context('display.max_rows', None, 'display.max_columns', None):\n",
    "    print(df_liverpool_2019.dtypes)"
   ]
  },
  {
   "cell_type": "markdown",
   "metadata": {},
   "source": [
    "The [info](https://pandas.pydata.org/pandas-docs/stable/reference/api/pandas.DataFrame.info.html) method to get a quick description of the data, in particular the total number of rows, and each attribute’s type and number of non-null values."
   ]
  },
  {
   "cell_type": "code",
   "execution_count": 16,
   "metadata": {},
   "outputs": [
    {
     "name": "stdout",
     "output_type": "stream",
     "text": [
      "<class 'pandas.core.frame.DataFrame'>\n",
      "RangeIndex: 560 entries, 0 to 559\n",
      "Data columns (total 20 columns):\n",
      " #   Column           Non-Null Count  Dtype  \n",
      "---  ------           --------------  -----  \n",
      " 0   id               560 non-null    int64  \n",
      " 1   minute           560 non-null    int64  \n",
      " 2   result           560 non-null    object \n",
      " 3   X                560 non-null    float64\n",
      " 4   Y                560 non-null    float64\n",
      " 5   xG               560 non-null    float64\n",
      " 6   player           560 non-null    object \n",
      " 7   h_a              560 non-null    object \n",
      " 8   player_id        560 non-null    int64  \n",
      " 9   situation        560 non-null    object \n",
      " 10  year             560 non-null    int64  \n",
      " 11  shotType         560 non-null    object \n",
      " 12  match_id         560 non-null    int64  \n",
      " 13  h_team           560 non-null    object \n",
      " 14  a_team           560 non-null    object \n",
      " 15  h_goals          560 non-null    int64  \n",
      " 16  a_goals          560 non-null    int64  \n",
      " 17  date             560 non-null    object \n",
      " 18  player_assisted  428 non-null    object \n",
      " 19  lastAction       560 non-null    object \n",
      "dtypes: float64(3), int64(7), object(10)\n",
      "memory usage: 87.6+ KB\n"
     ]
    }
   ],
   "source": [
    "# Info for the raw DataFrame, df_liverpool_2019\n",
    "df_liverpool_2019.info()"
   ]
  },
  {
   "cell_type": "markdown",
   "metadata": {},
   "source": [
    "The [describe](https://pandas.pydata.org/pandas-docs/stable/reference/api/pandas.DataFrame.describe.html) method to show some useful statistics for each numerical column in the DataFrame."
   ]
  },
  {
   "cell_type": "code",
   "execution_count": 17,
   "metadata": {},
   "outputs": [
    {
     "data": {
      "text/html": [
       "<div>\n",
       "<style scoped>\n",
       "    .dataframe tbody tr th:only-of-type {\n",
       "        vertical-align: middle;\n",
       "    }\n",
       "\n",
       "    .dataframe tbody tr th {\n",
       "        vertical-align: top;\n",
       "    }\n",
       "\n",
       "    .dataframe thead th {\n",
       "        text-align: right;\n",
       "    }\n",
       "</style>\n",
       "<table border=\"1\" class=\"dataframe\">\n",
       "  <thead>\n",
       "    <tr style=\"text-align: right;\">\n",
       "      <th></th>\n",
       "      <th>id</th>\n",
       "      <th>minute</th>\n",
       "      <th>X</th>\n",
       "      <th>Y</th>\n",
       "      <th>xG</th>\n",
       "      <th>player_id</th>\n",
       "      <th>year</th>\n",
       "      <th>match_id</th>\n",
       "      <th>h_goals</th>\n",
       "      <th>a_goals</th>\n",
       "    </tr>\n",
       "  </thead>\n",
       "  <tbody>\n",
       "    <tr>\n",
       "      <th>count</th>\n",
       "      <td>560.000000</td>\n",
       "      <td>560.000000</td>\n",
       "      <td>560.000000</td>\n",
       "      <td>560.000000</td>\n",
       "      <td>560.000000</td>\n",
       "      <td>560.000000</td>\n",
       "      <td>560.0</td>\n",
       "      <td>560.000000</td>\n",
       "      <td>560.000000</td>\n",
       "      <td>560.000000</td>\n",
       "    </tr>\n",
       "    <tr>\n",
       "      <th>mean</th>\n",
       "      <td>341874.573214</td>\n",
       "      <td>47.614286</td>\n",
       "      <td>0.860796</td>\n",
       "      <td>0.494675</td>\n",
       "      <td>0.132805</td>\n",
       "      <td>1151.864286</td>\n",
       "      <td>2019.0</td>\n",
       "      <td>11822.441071</td>\n",
       "      <td>1.839286</td>\n",
       "      <td>1.294643</td>\n",
       "    </tr>\n",
       "    <tr>\n",
       "      <th>std</th>\n",
       "      <td>19327.312427</td>\n",
       "      <td>24.653835</td>\n",
       "      <td>0.075663</td>\n",
       "      <td>0.116142</td>\n",
       "      <td>0.168016</td>\n",
       "      <td>965.000279</td>\n",
       "      <td>0.0</td>\n",
       "      <td>108.550328</td>\n",
       "      <td>1.406308</td>\n",
       "      <td>1.027688</td>\n",
       "    </tr>\n",
       "    <tr>\n",
       "      <th>min</th>\n",
       "      <td>309897.000000</td>\n",
       "      <td>0.000000</td>\n",
       "      <td>0.033000</td>\n",
       "      <td>0.236000</td>\n",
       "      <td>0.000000</td>\n",
       "      <td>332.000000</td>\n",
       "      <td>2019.0</td>\n",
       "      <td>11643.000000</td>\n",
       "      <td>0.000000</td>\n",
       "      <td>0.000000</td>\n",
       "    </tr>\n",
       "    <tr>\n",
       "      <th>25%</th>\n",
       "      <td>327616.500000</td>\n",
       "      <td>29.000000</td>\n",
       "      <td>0.813000</td>\n",
       "      <td>0.406000</td>\n",
       "      <td>0.034975</td>\n",
       "      <td>605.000000</td>\n",
       "      <td>2019.0</td>\n",
       "      <td>11734.250000</td>\n",
       "      <td>1.000000</td>\n",
       "      <td>1.000000</td>\n",
       "    </tr>\n",
       "    <tr>\n",
       "      <th>50%</th>\n",
       "      <td>339682.500000</td>\n",
       "      <td>48.000000</td>\n",
       "      <td>0.873000</td>\n",
       "      <td>0.497000</td>\n",
       "      <td>0.071777</td>\n",
       "      <td>838.000000</td>\n",
       "      <td>2019.0</td>\n",
       "      <td>11822.000000</td>\n",
       "      <td>2.000000</td>\n",
       "      <td>1.000000</td>\n",
       "    </tr>\n",
       "    <tr>\n",
       "      <th>75%</th>\n",
       "      <td>353156.250000</td>\n",
       "      <td>65.000000</td>\n",
       "      <td>0.912000</td>\n",
       "      <td>0.573500</td>\n",
       "      <td>0.119776</td>\n",
       "      <td>1250.000000</td>\n",
       "      <td>2019.0</td>\n",
       "      <td>11911.000000</td>\n",
       "      <td>3.000000</td>\n",
       "      <td>2.000000</td>\n",
       "    </tr>\n",
       "    <tr>\n",
       "      <th>max</th>\n",
       "      <td>373322.000000</td>\n",
       "      <td>95.000000</td>\n",
       "      <td>0.989000</td>\n",
       "      <td>0.847000</td>\n",
       "      <td>0.934837</td>\n",
       "      <td>6665.000000</td>\n",
       "      <td>2019.0</td>\n",
       "      <td>12006.000000</td>\n",
       "      <td>5.000000</td>\n",
       "      <td>4.000000</td>\n",
       "    </tr>\n",
       "  </tbody>\n",
       "</table>\n",
       "</div>"
      ],
      "text/plain": [
       "                  id      minute           X           Y          xG  \\\n",
       "count     560.000000  560.000000  560.000000  560.000000  560.000000   \n",
       "mean   341874.573214   47.614286    0.860796    0.494675    0.132805   \n",
       "std     19327.312427   24.653835    0.075663    0.116142    0.168016   \n",
       "min    309897.000000    0.000000    0.033000    0.236000    0.000000   \n",
       "25%    327616.500000   29.000000    0.813000    0.406000    0.034975   \n",
       "50%    339682.500000   48.000000    0.873000    0.497000    0.071777   \n",
       "75%    353156.250000   65.000000    0.912000    0.573500    0.119776   \n",
       "max    373322.000000   95.000000    0.989000    0.847000    0.934837   \n",
       "\n",
       "         player_id    year      match_id     h_goals     a_goals  \n",
       "count   560.000000   560.0    560.000000  560.000000  560.000000  \n",
       "mean   1151.864286  2019.0  11822.441071    1.839286    1.294643  \n",
       "std     965.000279     0.0    108.550328    1.406308    1.027688  \n",
       "min     332.000000  2019.0  11643.000000    0.000000    0.000000  \n",
       "25%     605.000000  2019.0  11734.250000    1.000000    1.000000  \n",
       "50%     838.000000  2019.0  11822.000000    2.000000    1.000000  \n",
       "75%    1250.000000  2019.0  11911.000000    3.000000    2.000000  \n",
       "max    6665.000000  2019.0  12006.000000    5.000000    4.000000  "
      ]
     },
     "execution_count": 17,
     "metadata": {},
     "output_type": "execute_result"
    }
   ],
   "source": [
    "# Description of the raw DataFrame, df_liverpool_2019, showing some summary statistics for each numberical column in the DataFrame\n",
    "df_liverpool_2019.describe()"
   ]
  },
  {
   "cell_type": "markdown",
   "metadata": {},
   "source": [
    "Next, we will check to see how many missing values we have i.e. the number of NULL values in the dataset, and in what features these missing values are located. This can be plotted nicely using the [missingno](https://pypi.org/project/missingno/) library (pip install missingno)."
   ]
  },
  {
   "cell_type": "code",
   "execution_count": 18,
   "metadata": {},
   "outputs": [
    {
     "data": {
      "text/plain": [
       "<matplotlib.axes._subplots.AxesSubplot at 0x1a21f8e790>"
      ]
     },
     "execution_count": 18,
     "metadata": {},
     "output_type": "execute_result"
    },
    {
     "data": {
      "image/png": "[encoded data removed]",
      "text/plain": [
       "<Figure size 2160x504 with 2 Axes>"
      ]
     },
     "metadata": {},
     "output_type": "display_data"
    }
   ],
   "source": [
    "# Plot visualisation of the missing values for each feature of the raw DataFrame, df_liverpool_2019\n",
    "msno.matrix(df_liverpool_2019, figsize = (30, 7))"
   ]
  },
  {
   "cell_type": "code",
   "execution_count": 19,
   "metadata": {},
   "outputs": [
    {
     "data": {
      "text/plain": [
       "player_assisted    132\n",
       "dtype: int64"
      ]
     },
     "execution_count": 19,
     "metadata": {},
     "output_type": "execute_result"
    }
   ],
   "source": [
    "# Counts of missing values\n",
    "null_value_stats = df_liverpool_2019.isnull().sum(axis=0)\n",
    "null_value_stats[null_value_stats != 0]"
   ]
  },
  {
   "cell_type": "markdown",
   "metadata": {},
   "source": [
    "The visualisation shows us very quickly that there are only missing values for `player_assisted` which represents shots that had no assist."
   ]
  },
  {
   "cell_type": "markdown",
   "metadata": {},
   "source": [
    "## <a id='#section4'>4. Data Engineering</a>"
   ]
  },
  {
   "cell_type": "markdown",
   "metadata": {},
   "source": [
    "### <a id='#section4.1'>4.1. Introduction</a>\n",
    "Before we answer the questions in the brief through [Exploratory Data Analysis (EDA)](#section5), we'll first need to clean, wrangle, and join the two datasets to be in a form that meet our needs.\n",
    "\n",
    "These two data sources are joined to create a single DataFrame in section 4.4 before going on to be analysed in section 5."
   ]
  },
  {
   "cell_type": "markdown",
   "metadata": {},
   "source": [
    "### <a id='#section4.2.'>4.2. String Cleaning</a>\n",
    "..."
   ]
  },
  {
   "cell_type": "code",
   "execution_count": 21,
   "metadata": {},
   "outputs": [],
   "source": []
  },
  {
   "cell_type": "code",
   "execution_count": null,
   "metadata": {},
   "outputs": [],
   "source": []
  },
  {
   "cell_type": "markdown",
   "metadata": {},
   "source": [
    "### <a id='#section4.3'>4.3. Export DataFrame</a>"
   ]
  },
  {
   "cell_type": "code",
   "execution_count": 20,
   "metadata": {},
   "outputs": [],
   "source": [
    "# df_liverpool_2019.to_csv(data_dir_fbref + '/engineered/goalkeeper/' + 'goalkeeper_big5_1920_engineered_{}.csv'.format(datetime.datetime.now().strftime(\"%d%m%Y-%H%M\")), index=None, header=True)"
   ]
  },
  {
   "cell_type": "markdown",
   "metadata": {},
   "source": [
    "## <a id='#section5'>5. Exploratory Data Analysis</a>"
   ]
  },
  {
   "cell_type": "markdown",
   "metadata": {},
   "source": [
    "### <a id='#section5.1'>5.1. Introduction</a>\n",
    "..."
   ]
  },
  {
   "cell_type": "markdown",
   "metadata": {},
   "source": [
    "### <a id='#section5.2'>5.2. Shot Maps</a>"
   ]
  },
  {
   "cell_type": "markdown",
   "metadata": {},
   "source": [
    "#### <a id='#section5.2.1'>5.2.1. X,Y Conversion and Pitch Measurements</a>\n",
    "Convert Understats coordinates from 0,100 to a range of x(0,104) and y(0,68) - the average pitch size.\n",
    "\n",
    "If you have access to the data and know the exact dimensions for pitches in the leagues you are interested in, you could make this even more accurate."
   ]
  },
  {
   "cell_type": "code",
   "execution_count": 138,
   "metadata": {},
   "outputs": [],
   "source": [
    "pitch_length_x = 104\n",
    "pitch_length_y = 68"
   ]
  },
  {
   "cell_type": "code",
   "execution_count": 157,
   "metadata": {},
   "outputs": [],
   "source": [
    "# Add new columns\n",
    "\n",
    "## Convert Understats coordinates from 0,100 to a range of x(0,104) and y(0,68) - the average pitch size.\n",
    "df_liverpool_2019['XM'] = df_liverpool_2019['X'] * pitch_length_x\n",
    "df_liverpool_2019['YM'] = df_liverpool_2019['Y'] * pitch_length_y\n",
    "\n",
    "## Create reverse columns of previous created 'XM' and 'YM' columns\n",
    "df_liverpool_2019['XM_r'] = pitch_length_x - df_liverpool_2019['XM']    # Added for completeness but not used\n",
    "df_liverpool_2019['YM_r'] = pitch_length_y - df_liverpool_2019['YM']\n",
    "\n",
    "## Create column of scaled xG to make them larger in the plot\n",
    "df_liverpool_2019['xG_s'] = df_liverpool_2019['xG'] * 1.5"
   ]
  },
  {
   "cell_type": "code",
   "execution_count": 158,
   "metadata": {
    "scrolled": true
   },
   "outputs": [
    {
     "data": {
      "text/html": [
       "<div>\n",
       "<style scoped>\n",
       "    .dataframe tbody tr th:only-of-type {\n",
       "        vertical-align: middle;\n",
       "    }\n",
       "\n",
       "    .dataframe tbody tr th {\n",
       "        vertical-align: top;\n",
       "    }\n",
       "\n",
       "    .dataframe thead th {\n",
       "        text-align: right;\n",
       "    }\n",
       "</style>\n",
       "<table border=\"1\" class=\"dataframe\">\n",
       "  <thead>\n",
       "    <tr style=\"text-align: right;\">\n",
       "      <th></th>\n",
       "      <th>id</th>\n",
       "      <th>minute</th>\n",
       "      <th>result</th>\n",
       "      <th>X</th>\n",
       "      <th>Y</th>\n",
       "      <th>xG</th>\n",
       "      <th>player</th>\n",
       "      <th>h_a</th>\n",
       "      <th>player_id</th>\n",
       "      <th>situation</th>\n",
       "      <th>...</th>\n",
       "      <th>h_goals</th>\n",
       "      <th>a_goals</th>\n",
       "      <th>date</th>\n",
       "      <th>player_assisted</th>\n",
       "      <th>lastAction</th>\n",
       "      <th>XM</th>\n",
       "      <th>YM</th>\n",
       "      <th>XM_r</th>\n",
       "      <th>YM_r</th>\n",
       "      <th>xG_s</th>\n",
       "    </tr>\n",
       "  </thead>\n",
       "  <tbody>\n",
       "    <tr>\n",
       "      <th>0</th>\n",
       "      <td>309898</td>\n",
       "      <td>18</td>\n",
       "      <td>Goal</td>\n",
       "      <td>0.933</td>\n",
       "      <td>0.367</td>\n",
       "      <td>0.366817</td>\n",
       "      <td>Mohamed Salah</td>\n",
       "      <td>h</td>\n",
       "      <td>1250</td>\n",
       "      <td>OpenPlay</td>\n",
       "      <td>...</td>\n",
       "      <td>4</td>\n",
       "      <td>1</td>\n",
       "      <td>2019-08-09 20:00:00</td>\n",
       "      <td>Roberto Firmino</td>\n",
       "      <td>Pass</td>\n",
       "      <td>97.032003</td>\n",
       "      <td>24.956001</td>\n",
       "      <td>6.967997</td>\n",
       "      <td>43.043999</td>\n",
       "      <td>0.550225</td>\n",
       "    </tr>\n",
       "    <tr>\n",
       "      <th>1</th>\n",
       "      <td>309908</td>\n",
       "      <td>53</td>\n",
       "      <td>MissedShots</td>\n",
       "      <td>0.880</td>\n",
       "      <td>0.339</td>\n",
       "      <td>0.077992</td>\n",
       "      <td>Mohamed Salah</td>\n",
       "      <td>h</td>\n",
       "      <td>1250</td>\n",
       "      <td>OpenPlay</td>\n",
       "      <td>...</td>\n",
       "      <td>4</td>\n",
       "      <td>1</td>\n",
       "      <td>2019-08-09 20:00:00</td>\n",
       "      <td>Fabinho</td>\n",
       "      <td>BallRecovery</td>\n",
       "      <td>91.520000</td>\n",
       "      <td>23.052001</td>\n",
       "      <td>12.480000</td>\n",
       "      <td>44.947999</td>\n",
       "      <td>0.116988</td>\n",
       "    </tr>\n",
       "    <tr>\n",
       "      <th>2</th>\n",
       "      <td>310445</td>\n",
       "      <td>32</td>\n",
       "      <td>MissedShots</td>\n",
       "      <td>0.939</td>\n",
       "      <td>0.721</td>\n",
       "      <td>0.041742</td>\n",
       "      <td>Mohamed Salah</td>\n",
       "      <td>a</td>\n",
       "      <td>1250</td>\n",
       "      <td>OpenPlay</td>\n",
       "      <td>...</td>\n",
       "      <td>1</td>\n",
       "      <td>2</td>\n",
       "      <td>2019-08-17 15:00:00</td>\n",
       "      <td>Alex Oxlade-Chamberlain</td>\n",
       "      <td>Chipped</td>\n",
       "      <td>97.656002</td>\n",
       "      <td>49.027999</td>\n",
       "      <td>6.343998</td>\n",
       "      <td>18.972001</td>\n",
       "      <td>0.062613</td>\n",
       "    </tr>\n",
       "    <tr>\n",
       "      <th>3</th>\n",
       "      <td>310449</td>\n",
       "      <td>49</td>\n",
       "      <td>BlockedShot</td>\n",
       "      <td>0.801</td>\n",
       "      <td>0.310</td>\n",
       "      <td>0.071200</td>\n",
       "      <td>Mohamed Salah</td>\n",
       "      <td>a</td>\n",
       "      <td>1250</td>\n",
       "      <td>DirectFreekick</td>\n",
       "      <td>...</td>\n",
       "      <td>1</td>\n",
       "      <td>2</td>\n",
       "      <td>2019-08-17 15:00:00</td>\n",
       "      <td>NaN</td>\n",
       "      <td>Standard</td>\n",
       "      <td>83.303998</td>\n",
       "      <td>21.080000</td>\n",
       "      <td>20.696002</td>\n",
       "      <td>46.920000</td>\n",
       "      <td>0.106800</td>\n",
       "    </tr>\n",
       "    <tr>\n",
       "      <th>4</th>\n",
       "      <td>310454</td>\n",
       "      <td>55</td>\n",
       "      <td>SavedShot</td>\n",
       "      <td>0.923</td>\n",
       "      <td>0.357</td>\n",
       "      <td>0.300783</td>\n",
       "      <td>Mohamed Salah</td>\n",
       "      <td>a</td>\n",
       "      <td>1250</td>\n",
       "      <td>OpenPlay</td>\n",
       "      <td>...</td>\n",
       "      <td>1</td>\n",
       "      <td>2</td>\n",
       "      <td>2019-08-17 15:00:00</td>\n",
       "      <td>Sadio Mané</td>\n",
       "      <td>Chipped</td>\n",
       "      <td>95.992003</td>\n",
       "      <td>24.276001</td>\n",
       "      <td>8.007997</td>\n",
       "      <td>43.723999</td>\n",
       "      <td>0.451174</td>\n",
       "    </tr>\n",
       "  </tbody>\n",
       "</table>\n",
       "<p>5 rows × 25 columns</p>\n",
       "</div>"
      ],
      "text/plain": [
       "       id  minute       result      X      Y        xG         player h_a  \\\n",
       "0  309898      18         Goal  0.933  0.367  0.366817  Mohamed Salah   h   \n",
       "1  309908      53  MissedShots  0.880  0.339  0.077992  Mohamed Salah   h   \n",
       "2  310445      32  MissedShots  0.939  0.721  0.041742  Mohamed Salah   a   \n",
       "3  310449      49  BlockedShot  0.801  0.310  0.071200  Mohamed Salah   a   \n",
       "4  310454      55    SavedShot  0.923  0.357  0.300783  Mohamed Salah   a   \n",
       "\n",
       "   player_id       situation  ...  h_goals a_goals                 date  \\\n",
       "0       1250        OpenPlay  ...        4       1  2019-08-09 20:00:00   \n",
       "1       1250        OpenPlay  ...        4       1  2019-08-09 20:00:00   \n",
       "2       1250        OpenPlay  ...        1       2  2019-08-17 15:00:00   \n",
       "3       1250  DirectFreekick  ...        1       2  2019-08-17 15:00:00   \n",
       "4       1250        OpenPlay  ...        1       2  2019-08-17 15:00:00   \n",
       "\n",
       "           player_assisted    lastAction         XM         YM       XM_r  \\\n",
       "0          Roberto Firmino          Pass  97.032003  24.956001   6.967997   \n",
       "1                  Fabinho  BallRecovery  91.520000  23.052001  12.480000   \n",
       "2  Alex Oxlade-Chamberlain       Chipped  97.656002  49.027999   6.343998   \n",
       "3                      NaN      Standard  83.303998  21.080000  20.696002   \n",
       "4               Sadio Mané       Chipped  95.992003  24.276001   8.007997   \n",
       "\n",
       "        YM_r      xG_s  \n",
       "0  43.043999  0.550225  \n",
       "1  44.947999  0.116988  \n",
       "2  18.972001  0.062613  \n",
       "3  46.920000  0.106800  \n",
       "4  43.723999  0.451174  \n",
       "\n",
       "[5 rows x 25 columns]"
      ]
     },
     "execution_count": 158,
     "metadata": {},
     "output_type": "execute_result"
    }
   ],
   "source": [
    "df_liverpool_2019.head()"
   ]
  },
  {
   "cell_type": "markdown",
   "metadata": {},
   "source": [
    "#### <a id='#section5.2.2'>5.2.2. Unique Players by ID</a>"
   ]
  },
  {
   "cell_type": "code",
   "execution_count": 159,
   "metadata": {},
   "outputs": [
    {
     "data": {
      "text/plain": [
       "array(['Mohamed Salah', 'Sadio Mané', 'Roberto Firmino',\n",
       "       'Jordan Henderson', 'Georginio Wijnaldum', 'Virgil van Dijk',\n",
       "       'Alex Oxlade-Chamberlain', 'Trent Alexander-Arnold',\n",
       "       'Divock Origi', 'James Milner', 'Andrew Robertson', 'Fabinho',\n",
       "       'Naby Keita', 'Joel Matip', 'Adam Lallana', 'Xherdan Shaqiri',\n",
       "       'Curtis Jones'], dtype=object)"
      ]
     },
     "execution_count": 159,
     "metadata": {},
     "output_type": "execute_result"
    }
   ],
   "source": [
    "df_liverpool_2019['player'].unique()"
   ]
  },
  {
   "cell_type": "code",
   "execution_count": 160,
   "metadata": {},
   "outputs": [],
   "source": [
    "df_salah = df_liverpool_2019.loc[df_liverpool_2019['player'] == 'Mohamed Salah'].set_index('id')"
   ]
  },
  {
   "cell_type": "code",
   "execution_count": 161,
   "metadata": {},
   "outputs": [
    {
     "data": {
      "text/html": [
       "<div>\n",
       "<style scoped>\n",
       "    .dataframe tbody tr th:only-of-type {\n",
       "        vertical-align: middle;\n",
       "    }\n",
       "\n",
       "    .dataframe tbody tr th {\n",
       "        vertical-align: top;\n",
       "    }\n",
       "\n",
       "    .dataframe thead th {\n",
       "        text-align: right;\n",
       "    }\n",
       "</style>\n",
       "<table border=\"1\" class=\"dataframe\">\n",
       "  <thead>\n",
       "    <tr style=\"text-align: right;\">\n",
       "      <th></th>\n",
       "      <th>minute</th>\n",
       "      <th>result</th>\n",
       "      <th>X</th>\n",
       "      <th>Y</th>\n",
       "      <th>xG</th>\n",
       "      <th>player</th>\n",
       "      <th>h_a</th>\n",
       "      <th>player_id</th>\n",
       "      <th>situation</th>\n",
       "      <th>year</th>\n",
       "      <th>...</th>\n",
       "      <th>h_goals</th>\n",
       "      <th>a_goals</th>\n",
       "      <th>date</th>\n",
       "      <th>player_assisted</th>\n",
       "      <th>lastAction</th>\n",
       "      <th>XM</th>\n",
       "      <th>YM</th>\n",
       "      <th>XM_r</th>\n",
       "      <th>YM_r</th>\n",
       "      <th>xG_s</th>\n",
       "    </tr>\n",
       "    <tr>\n",
       "      <th>id</th>\n",
       "      <th></th>\n",
       "      <th></th>\n",
       "      <th></th>\n",
       "      <th></th>\n",
       "      <th></th>\n",
       "      <th></th>\n",
       "      <th></th>\n",
       "      <th></th>\n",
       "      <th></th>\n",
       "      <th></th>\n",
       "      <th></th>\n",
       "      <th></th>\n",
       "      <th></th>\n",
       "      <th></th>\n",
       "      <th></th>\n",
       "      <th></th>\n",
       "      <th></th>\n",
       "      <th></th>\n",
       "      <th></th>\n",
       "      <th></th>\n",
       "      <th></th>\n",
       "    </tr>\n",
       "  </thead>\n",
       "  <tbody>\n",
       "    <tr>\n",
       "      <th>309898</th>\n",
       "      <td>18</td>\n",
       "      <td>Goal</td>\n",
       "      <td>0.933</td>\n",
       "      <td>0.367</td>\n",
       "      <td>0.366817</td>\n",
       "      <td>Mohamed Salah</td>\n",
       "      <td>h</td>\n",
       "      <td>1250</td>\n",
       "      <td>OpenPlay</td>\n",
       "      <td>2019</td>\n",
       "      <td>...</td>\n",
       "      <td>4</td>\n",
       "      <td>1</td>\n",
       "      <td>2019-08-09 20:00:00</td>\n",
       "      <td>Roberto Firmino</td>\n",
       "      <td>Pass</td>\n",
       "      <td>97.032003</td>\n",
       "      <td>24.956001</td>\n",
       "      <td>6.967997</td>\n",
       "      <td>43.043999</td>\n",
       "      <td>0.550225</td>\n",
       "    </tr>\n",
       "    <tr>\n",
       "      <th>309908</th>\n",
       "      <td>53</td>\n",
       "      <td>MissedShots</td>\n",
       "      <td>0.880</td>\n",
       "      <td>0.339</td>\n",
       "      <td>0.077992</td>\n",
       "      <td>Mohamed Salah</td>\n",
       "      <td>h</td>\n",
       "      <td>1250</td>\n",
       "      <td>OpenPlay</td>\n",
       "      <td>2019</td>\n",
       "      <td>...</td>\n",
       "      <td>4</td>\n",
       "      <td>1</td>\n",
       "      <td>2019-08-09 20:00:00</td>\n",
       "      <td>Fabinho</td>\n",
       "      <td>BallRecovery</td>\n",
       "      <td>91.520000</td>\n",
       "      <td>23.052001</td>\n",
       "      <td>12.480000</td>\n",
       "      <td>44.947999</td>\n",
       "      <td>0.116988</td>\n",
       "    </tr>\n",
       "    <tr>\n",
       "      <th>310445</th>\n",
       "      <td>32</td>\n",
       "      <td>MissedShots</td>\n",
       "      <td>0.939</td>\n",
       "      <td>0.721</td>\n",
       "      <td>0.041742</td>\n",
       "      <td>Mohamed Salah</td>\n",
       "      <td>a</td>\n",
       "      <td>1250</td>\n",
       "      <td>OpenPlay</td>\n",
       "      <td>2019</td>\n",
       "      <td>...</td>\n",
       "      <td>1</td>\n",
       "      <td>2</td>\n",
       "      <td>2019-08-17 15:00:00</td>\n",
       "      <td>Alex Oxlade-Chamberlain</td>\n",
       "      <td>Chipped</td>\n",
       "      <td>97.656002</td>\n",
       "      <td>49.027999</td>\n",
       "      <td>6.343998</td>\n",
       "      <td>18.972001</td>\n",
       "      <td>0.062613</td>\n",
       "    </tr>\n",
       "    <tr>\n",
       "      <th>310449</th>\n",
       "      <td>49</td>\n",
       "      <td>BlockedShot</td>\n",
       "      <td>0.801</td>\n",
       "      <td>0.310</td>\n",
       "      <td>0.071200</td>\n",
       "      <td>Mohamed Salah</td>\n",
       "      <td>a</td>\n",
       "      <td>1250</td>\n",
       "      <td>DirectFreekick</td>\n",
       "      <td>2019</td>\n",
       "      <td>...</td>\n",
       "      <td>1</td>\n",
       "      <td>2</td>\n",
       "      <td>2019-08-17 15:00:00</td>\n",
       "      <td>NaN</td>\n",
       "      <td>Standard</td>\n",
       "      <td>83.303998</td>\n",
       "      <td>21.080000</td>\n",
       "      <td>20.696002</td>\n",
       "      <td>46.920000</td>\n",
       "      <td>0.106800</td>\n",
       "    </tr>\n",
       "    <tr>\n",
       "      <th>310454</th>\n",
       "      <td>55</td>\n",
       "      <td>SavedShot</td>\n",
       "      <td>0.923</td>\n",
       "      <td>0.357</td>\n",
       "      <td>0.300783</td>\n",
       "      <td>Mohamed Salah</td>\n",
       "      <td>a</td>\n",
       "      <td>1250</td>\n",
       "      <td>OpenPlay</td>\n",
       "      <td>2019</td>\n",
       "      <td>...</td>\n",
       "      <td>1</td>\n",
       "      <td>2</td>\n",
       "      <td>2019-08-17 15:00:00</td>\n",
       "      <td>Sadio Mané</td>\n",
       "      <td>Chipped</td>\n",
       "      <td>95.992003</td>\n",
       "      <td>24.276001</td>\n",
       "      <td>8.007997</td>\n",
       "      <td>43.723999</td>\n",
       "      <td>0.451174</td>\n",
       "    </tr>\n",
       "  </tbody>\n",
       "</table>\n",
       "<p>5 rows × 24 columns</p>\n",
       "</div>"
      ],
      "text/plain": [
       "        minute       result      X      Y        xG         player h_a  \\\n",
       "id                                                                       \n",
       "309898      18         Goal  0.933  0.367  0.366817  Mohamed Salah   h   \n",
       "309908      53  MissedShots  0.880  0.339  0.077992  Mohamed Salah   h   \n",
       "310445      32  MissedShots  0.939  0.721  0.041742  Mohamed Salah   a   \n",
       "310449      49  BlockedShot  0.801  0.310  0.071200  Mohamed Salah   a   \n",
       "310454      55    SavedShot  0.923  0.357  0.300783  Mohamed Salah   a   \n",
       "\n",
       "        player_id       situation  year  ... h_goals  a_goals  \\\n",
       "id                                       ...                    \n",
       "309898       1250        OpenPlay  2019  ...       4        1   \n",
       "309908       1250        OpenPlay  2019  ...       4        1   \n",
       "310445       1250        OpenPlay  2019  ...       1        2   \n",
       "310449       1250  DirectFreekick  2019  ...       1        2   \n",
       "310454       1250        OpenPlay  2019  ...       1        2   \n",
       "\n",
       "                       date          player_assisted    lastAction         XM  \\\n",
       "id                                                                              \n",
       "309898  2019-08-09 20:00:00          Roberto Firmino          Pass  97.032003   \n",
       "309908  2019-08-09 20:00:00                  Fabinho  BallRecovery  91.520000   \n",
       "310445  2019-08-17 15:00:00  Alex Oxlade-Chamberlain       Chipped  97.656002   \n",
       "310449  2019-08-17 15:00:00                      NaN      Standard  83.303998   \n",
       "310454  2019-08-17 15:00:00               Sadio Mané       Chipped  95.992003   \n",
       "\n",
       "               YM       XM_r       YM_r      xG_s  \n",
       "id                                                 \n",
       "309898  24.956001   6.967997  43.043999  0.550225  \n",
       "309908  23.052001  12.480000  44.947999  0.116988  \n",
       "310445  49.027999   6.343998  18.972001  0.062613  \n",
       "310449  21.080000  20.696002  46.920000  0.106800  \n",
       "310454  24.276001   8.007997  43.723999  0.451174  \n",
       "\n",
       "[5 rows x 24 columns]"
      ]
     },
     "execution_count": 161,
     "metadata": {},
     "output_type": "execute_result"
    }
   ],
   "source": [
    "df_salah.head()"
   ]
  },
  {
   "cell_type": "code",
   "execution_count": 162,
   "metadata": {
    "scrolled": true
   },
   "outputs": [
    {
     "data": {
      "text/plain": [
       "(129, 24)"
      ]
     },
     "execution_count": 162,
     "metadata": {},
     "output_type": "execute_result"
    }
   ],
   "source": [
    "df_salah.shape"
   ]
  },
  {
   "cell_type": "code",
   "execution_count": 163,
   "metadata": {},
   "outputs": [],
   "source": [
    "import datetime"
   ]
  },
  {
   "cell_type": "code",
   "execution_count": 164,
   "metadata": {
    "scrolled": true
   },
   "outputs": [],
   "source": [
    "df_salah.to_csv(data_dir + '/liverpool_2010_salah_{}.csv'.format(datetime.datetime.now().strftime(\"%d%m%Y-%H%M\")), index=None, header=True)"
   ]
  },
  {
   "cell_type": "markdown",
   "metadata": {},
   "source": [
    "#### <a id='#section5.2.2'>5.2.2. Plot Events</a>"
   ]
  },
  {
   "cell_type": "code",
   "execution_count": 165,
   "metadata": {},
   "outputs": [
    {
     "data": {
      "image/png": "[encoded data removed]",
      "text/plain": [
       "<Figure size 748.8x489.6 with 1 Axes>"
      ]
     },
     "metadata": {},
     "output_type": "display_data"
    }
   ],
   "source": [
    "## generate random data\n",
    "\n",
    "import random\n",
    "\n",
    "sample = 20\n",
    "\n",
    "draw_pitch(\"#195905\",\"#faf0e6\",\"horizontal\",\"full\")\n",
    "\n",
    "x = [random.randint(0, pitch_length_x) for p in range(0, sample)]\n",
    "y = [random.randint(0, pitch_length_y) for p in range(0,sample)]\n",
    "\n",
    "zo = 12\n",
    "\n",
    "plt.scatter(x,y,marker='o',color='red',edgecolors=\"black\", zorder=zo)\n",
    "plt.show()"
   ]
  },
  {
   "cell_type": "code",
   "execution_count": 182,
   "metadata": {},
   "outputs": [
    {
     "data": {
      "image/png": "[encoded data removed]",
      "text/plain": [
       "<Figure size 748.8x489.6 with 1 Axes>"
      ]
     },
     "metadata": {},
     "output_type": "display_data"
    }
   ],
   "source": [
    "# Plotting Shots\n",
    "\n",
    "## Draw the pitch\n",
    "draw_pitch(\"#195905\",\"#faf0e6\",\"vertical\",\"half\")\n",
    "\n",
    "\n",
    "## X and Y coordinates\n",
    "x = df_salah['XM'].tolist()\n",
    "y = df_salah['YM'].tolist()\n",
    "# x = [random.randint(72, 104) for p in range(0, sample)]\n",
    "# y = [random.randint(10,58) for p in range(0,sample)]\n",
    "y1 = [68 - i for i in y]\n",
    "\n",
    "\n",
    "## Add Z variable for xG\n",
    "z = df_salah['xG'].tolist()\n",
    "#z = [random.uniform(0,1) for p in range(0,sample)]\n",
    "z1 = [500 * i for i in z] # This is to scale the \"xG\" values for plotting\n",
    "\n",
    "\n",
    "## Add small legend in the bottom corner\n",
    "mSize = [0.05,0.10,0.2,0.4,0.6,1]\n",
    "mSizeS = [500 * i for i in mSize]\n",
    "mx = [5.5,7,9,11,13.5,16.5]\n",
    "my = [60,60,60,60,60,60]\n",
    "\n",
    "plt.text(11,55,\"xG\", color=\"white\", ha=\"center\",va=\"center\", zorder=zo, fontsize=16)\n",
    "plt.scatter(y1,x,s=z1, c=\"red\",edgecolors=\"k\",zorder=zo)\n",
    "plt.scatter(mx,my,s=mSizeS,facecolors=\"white\", edgecolor=\"white\",zorder=zo)\n",
    "plt.plot([5.5,17], [57,57],color=\"white\",lw=2,zorder=zo)\n",
    "\n",
    "i = 0\n",
    "\n",
    "for i in range(len(mx)):\n",
    "    plt.text(mx[i], my[i], mSize[i], fontsize=mSize[i]*18, color=\"#195905\", zorder=zo,ha=\"center\", va=\"center\")\n",
    "\n",
    "    \n",
    "## Title\n",
    "plt.title(\"Mohamed Salah Shots 19/20 Season\")\n",
    "\n",
    "## Show plot\n",
    "plt.show()"
   ]
  },
  {
   "cell_type": "code",
   "execution_count": null,
   "metadata": {},
   "outputs": [],
   "source": []
  },
  {
   "cell_type": "code",
   "execution_count": 167,
   "metadata": {},
   "outputs": [],
   "source": [
    "hHead = df_salah[df_salah['shotType'] == 'Head']\n",
    "hFoot = df_salah[df_salah['shotType'] != 'Head']"
   ]
  },
  {
   "cell_type": "code",
   "execution_count": 168,
   "metadata": {},
   "outputs": [
    {
     "data": {
      "text/html": [
       "<div>\n",
       "<style scoped>\n",
       "    .dataframe tbody tr th:only-of-type {\n",
       "        vertical-align: middle;\n",
       "    }\n",
       "\n",
       "    .dataframe tbody tr th {\n",
       "        vertical-align: top;\n",
       "    }\n",
       "\n",
       "    .dataframe thead th {\n",
       "        text-align: right;\n",
       "    }\n",
       "</style>\n",
       "<table border=\"1\" class=\"dataframe\">\n",
       "  <thead>\n",
       "    <tr style=\"text-align: right;\">\n",
       "      <th></th>\n",
       "      <th>minute</th>\n",
       "      <th>result</th>\n",
       "      <th>X</th>\n",
       "      <th>Y</th>\n",
       "      <th>xG</th>\n",
       "      <th>player</th>\n",
       "      <th>h_a</th>\n",
       "      <th>player_id</th>\n",
       "      <th>situation</th>\n",
       "      <th>year</th>\n",
       "      <th>...</th>\n",
       "      <th>h_goals</th>\n",
       "      <th>a_goals</th>\n",
       "      <th>date</th>\n",
       "      <th>player_assisted</th>\n",
       "      <th>lastAction</th>\n",
       "      <th>XM</th>\n",
       "      <th>YM</th>\n",
       "      <th>XM_r</th>\n",
       "      <th>YM_r</th>\n",
       "      <th>xG_s</th>\n",
       "    </tr>\n",
       "    <tr>\n",
       "      <th>id</th>\n",
       "      <th></th>\n",
       "      <th></th>\n",
       "      <th></th>\n",
       "      <th></th>\n",
       "      <th></th>\n",
       "      <th></th>\n",
       "      <th></th>\n",
       "      <th></th>\n",
       "      <th></th>\n",
       "      <th></th>\n",
       "      <th></th>\n",
       "      <th></th>\n",
       "      <th></th>\n",
       "      <th></th>\n",
       "      <th></th>\n",
       "      <th></th>\n",
       "      <th></th>\n",
       "      <th></th>\n",
       "      <th></th>\n",
       "      <th></th>\n",
       "      <th></th>\n",
       "    </tr>\n",
       "  </thead>\n",
       "  <tbody>\n",
       "    <tr>\n",
       "      <th>312724</th>\n",
       "      <td>55</td>\n",
       "      <td>MissedShots</td>\n",
       "      <td>0.947</td>\n",
       "      <td>0.525</td>\n",
       "      <td>0.542652</td>\n",
       "      <td>Mohamed Salah</td>\n",
       "      <td>h</td>\n",
       "      <td>1250</td>\n",
       "      <td>OpenPlay</td>\n",
       "      <td>2019</td>\n",
       "      <td>...</td>\n",
       "      <td>3</td>\n",
       "      <td>1</td>\n",
       "      <td>2019-08-24 17:30:00</td>\n",
       "      <td>Andrew Robertson</td>\n",
       "      <td>Cross</td>\n",
       "      <td>98.487997</td>\n",
       "      <td>35.700000</td>\n",
       "      <td>5.512003</td>\n",
       "      <td>32.300000</td>\n",
       "      <td>0.813979</td>\n",
       "    </tr>\n",
       "    <tr>\n",
       "      <th>329257</th>\n",
       "      <td>64</td>\n",
       "      <td>MissedShots</td>\n",
       "      <td>0.968</td>\n",
       "      <td>0.437</td>\n",
       "      <td>0.075641</td>\n",
       "      <td>Mohamed Salah</td>\n",
       "      <td>a</td>\n",
       "      <td>1250</td>\n",
       "      <td>OpenPlay</td>\n",
       "      <td>2019</td>\n",
       "      <td>...</td>\n",
       "      <td>1</td>\n",
       "      <td>2</td>\n",
       "      <td>2019-11-02 15:00:00</td>\n",
       "      <td>NaN</td>\n",
       "      <td>Aerial</td>\n",
       "      <td>100.672003</td>\n",
       "      <td>29.716001</td>\n",
       "      <td>3.327997</td>\n",
       "      <td>38.283999</td>\n",
       "      <td>0.113462</td>\n",
       "    </tr>\n",
       "    <tr>\n",
       "      <th>331548</th>\n",
       "      <td>12</td>\n",
       "      <td>Goal</td>\n",
       "      <td>0.913</td>\n",
       "      <td>0.398</td>\n",
       "      <td>0.184657</td>\n",
       "      <td>Mohamed Salah</td>\n",
       "      <td>h</td>\n",
       "      <td>1250</td>\n",
       "      <td>OpenPlay</td>\n",
       "      <td>2019</td>\n",
       "      <td>...</td>\n",
       "      <td>3</td>\n",
       "      <td>1</td>\n",
       "      <td>2019-11-10 16:30:00</td>\n",
       "      <td>Andrew Robertson</td>\n",
       "      <td>Cross</td>\n",
       "      <td>94.952003</td>\n",
       "      <td>27.063999</td>\n",
       "      <td>9.047997</td>\n",
       "      <td>40.936001</td>\n",
       "      <td>0.276986</td>\n",
       "    </tr>\n",
       "    <tr>\n",
       "      <th>335676</th>\n",
       "      <td>26</td>\n",
       "      <td>SavedShot</td>\n",
       "      <td>0.963</td>\n",
       "      <td>0.322</td>\n",
       "      <td>0.008257</td>\n",
       "      <td>Mohamed Salah</td>\n",
       "      <td>a</td>\n",
       "      <td>1250</td>\n",
       "      <td>OpenPlay</td>\n",
       "      <td>2019</td>\n",
       "      <td>...</td>\n",
       "      <td>0</td>\n",
       "      <td>3</td>\n",
       "      <td>2019-12-07 15:00:00</td>\n",
       "      <td>Joseph Gomez</td>\n",
       "      <td>Cross</td>\n",
       "      <td>100.152003</td>\n",
       "      <td>21.896001</td>\n",
       "      <td>3.847997</td>\n",
       "      <td>46.103999</td>\n",
       "      <td>0.012386</td>\n",
       "    </tr>\n",
       "    <tr>\n",
       "      <th>352364</th>\n",
       "      <td>72</td>\n",
       "      <td>MissedShots</td>\n",
       "      <td>0.908</td>\n",
       "      <td>0.496</td>\n",
       "      <td>0.114547</td>\n",
       "      <td>Mohamed Salah</td>\n",
       "      <td>a</td>\n",
       "      <td>1250</td>\n",
       "      <td>OpenPlay</td>\n",
       "      <td>2019</td>\n",
       "      <td>...</td>\n",
       "      <td>0</td>\n",
       "      <td>2</td>\n",
       "      <td>2020-01-29 19:45:00</td>\n",
       "      <td>Trent Alexander-Arnold</td>\n",
       "      <td>Cross</td>\n",
       "      <td>94.432003</td>\n",
       "      <td>33.727999</td>\n",
       "      <td>9.567997</td>\n",
       "      <td>34.272001</td>\n",
       "      <td>0.171820</td>\n",
       "    </tr>\n",
       "  </tbody>\n",
       "</table>\n",
       "<p>5 rows × 24 columns</p>\n",
       "</div>"
      ],
      "text/plain": [
       "        minute       result      X      Y        xG         player h_a  \\\n",
       "id                                                                       \n",
       "312724      55  MissedShots  0.947  0.525  0.542652  Mohamed Salah   h   \n",
       "329257      64  MissedShots  0.968  0.437  0.075641  Mohamed Salah   a   \n",
       "331548      12         Goal  0.913  0.398  0.184657  Mohamed Salah   h   \n",
       "335676      26    SavedShot  0.963  0.322  0.008257  Mohamed Salah   a   \n",
       "352364      72  MissedShots  0.908  0.496  0.114547  Mohamed Salah   a   \n",
       "\n",
       "        player_id situation  year  ... h_goals  a_goals                 date  \\\n",
       "id                                 ...                                         \n",
       "312724       1250  OpenPlay  2019  ...       3        1  2019-08-24 17:30:00   \n",
       "329257       1250  OpenPlay  2019  ...       1        2  2019-11-02 15:00:00   \n",
       "331548       1250  OpenPlay  2019  ...       3        1  2019-11-10 16:30:00   \n",
       "335676       1250  OpenPlay  2019  ...       0        3  2019-12-07 15:00:00   \n",
       "352364       1250  OpenPlay  2019  ...       0        2  2020-01-29 19:45:00   \n",
       "\n",
       "               player_assisted  lastAction          XM         YM      XM_r  \\\n",
       "id                                                                            \n",
       "312724        Andrew Robertson       Cross   98.487997  35.700000  5.512003   \n",
       "329257                     NaN      Aerial  100.672003  29.716001  3.327997   \n",
       "331548        Andrew Robertson       Cross   94.952003  27.063999  9.047997   \n",
       "335676            Joseph Gomez       Cross  100.152003  21.896001  3.847997   \n",
       "352364  Trent Alexander-Arnold       Cross   94.432003  33.727999  9.567997   \n",
       "\n",
       "             YM_r      xG_s  \n",
       "id                           \n",
       "312724  32.300000  0.813979  \n",
       "329257  38.283999  0.113462  \n",
       "331548  40.936001  0.276986  \n",
       "335676  46.103999  0.012386  \n",
       "352364  34.272001  0.171820  \n",
       "\n",
       "[5 rows x 24 columns]"
      ]
     },
     "execution_count": 168,
     "metadata": {},
     "output_type": "execute_result"
    }
   ],
   "source": [
    "hHead.head()"
   ]
  },
  {
   "cell_type": "code",
   "execution_count": 169,
   "metadata": {},
   "outputs": [
    {
     "data": {
      "text/plain": [
       "array(['Goal', 'MissedShots', 'BlockedShot', 'SavedShot', 'ShotOnPost'],\n",
       "      dtype=object)"
      ]
     },
     "execution_count": 169,
     "metadata": {},
     "output_type": "execute_result"
    }
   ],
   "source": [
    "df_salah['result'].unique()"
   ]
  },
  {
   "cell_type": "code",
   "execution_count": 170,
   "metadata": {},
   "outputs": [],
   "source": [
    "hHGoal = hHead[hHead['result'] == \"Goal\"]\n",
    "hHMissed = hHead[hHead['result'] == \"MissedShots\"]\n",
    "hHBlocked = hHead[hHead['result'] == \"BlockedShot\"]\n",
    "hHSaved = hHead[hHead['result'] == \"SavedShot\"]\n",
    "hHPost = hHead[hHead['result'] == \"ShotOnPost\"]"
   ]
  },
  {
   "cell_type": "code",
   "execution_count": 171,
   "metadata": {},
   "outputs": [],
   "source": [
    "hFGoal = hFoot[(hFoot['result'] == \"Goal\") & (hFoot['situation'] == \"DirectFreekick\")]\n",
    "hFKGoal = hFoot[(hFoot['result'] == \"Goal\") & (hFoot['situation'] == \"DirectFreekick\")]\n",
    "\n",
    "hFMissed = hFoot[(hFoot['result'] == \"MissedShots\") & (hFoot['situation'] != \"DirectFreekick\")]\n",
    "hFKMissed = hFoot[(hFoot['result'] == \"MissedShots\") & (hFoot['situation'] == \"DirectFreekick\")]\n",
    "\n",
    "hFBlocked = hFoot[(hFoot['result'] == \"BlockedShot\") & (hFoot['situation'] != \"DirectFreekick\")]\n",
    "hFKBlocked = hFoot[(hFoot['result'] == \"BlockedShot\") & (hFoot['situation'] == \"DirectFreekick\")]\n",
    "\n",
    "hFSaved = hFoot[(hFoot['result'] == \"SavedShot\") & (hFoot['situation'] != \"DirectFreekick\")]\n",
    "hFKSaved = hFoot[(hFoot['result'] == \"SavedShot\") & (hFoot['situation'] == \"DirectFreekick\")]\n",
    "\n",
    "hFPost= hFoot[(hFoot['result'] == \"ShotOnPost\") & (hFoot['situation'] != \"DirectFreekick\")]\n",
    "hFKPost = hFoot[(hFoot['result'] == \"ShotOnPost\") & (hFoot['situation'] == \"DirectFreekick\")]"
   ]
  },
  {
   "cell_type": "code",
   "execution_count": 176,
   "metadata": {},
   "outputs": [
    {
     "data": {
      "image/png": "[encoded data removed]",
      "text/plain": [
       "<Figure size 748.8x489.6 with 1 Axes>"
      ]
     },
     "metadata": {},
     "output_type": "display_data"
    }
   ],
   "source": [
    "# Plotting Shots\n",
    "\n",
    "## Draw the pitch\n",
    "draw_pitch(\"#195905\",\"#faf0e6\",\"vertical\",\"half\")\n",
    "\n",
    "\n",
    "## X and Y coordinates\n",
    "x = [random.randint(72, 104) for p in range(0, sample)]\n",
    "y = [random.randint(10,58) for p in range(0,sample)]\n",
    "y1 = [68 - i for i in y]\n",
    "\n",
    "\n",
    "## Add Z variable for xG\n",
    "z = [random.uniform(0,1) for p in range(0,sample)]\n",
    "z1 = [500 * i for i in z] # This is to scale the \"xG\" values for plotting\n",
    "\n",
    "\n",
    "## Add small legend in the bottom corner\n",
    "mSize = [0.05,0.10,0.2,0.4,0.6,1]\n",
    "mSizeS = [500 * i for i in mSize]\n",
    "mx = [5.5,7,9,11,13.5,16.5]\n",
    "my = [60,60,60,60,60,60]\n",
    "\n",
    "plt.text(11,55,\"xG\", color=\"white\", ha=\"center\",va=\"center\", zorder=zo, fontsize=16)\n",
    "plt.scatter(y1,x,s=z1, c=\"red\",edgecolors=\"k\",zorder=zo)\n",
    "plt.scatter(mx,my,s=mSizeS,facecolors=\"white\", edgecolor=\"white\",zorder=zo)\n",
    "plt.plot([5.5,17], [57,57],color=\"white\",lw=2,zorder=zo)\n",
    "\n",
    "i = 0\n",
    "\n",
    "for i in range(len(mx)):\n",
    "    plt.text(mx[i], my[i], mSize[i], fontsize=mSize[i]*18, color=\"#195905\", zorder=zo,ha=\"center\", va=\"center\")\n",
    "\n",
    "    \n",
    "##\n",
    "if len(hFGoal) > 0:\n",
    "    plt.scatter(hFGoal.YM_r, hFGoal.XM,\n",
    "    s=hFGoal.xG_s,marker='H',#c=hFGoal.colors,\n",
    "    edgecolors=\"white\",zorder=zo)\n",
    "    plt.scatter(hFGoal.YM_r, hFGoal.XM,\n",
    "    s=hFGoal.xG*2000,marker='H',facecolors=\"none\",\n",
    "    edgecolors=\"white\",zorder=zo+1)\n",
    "    \n",
    "if len(hFMissed) > 0:\n",
    "    plt.scatter(hFMissed.YM_r, hFMissed.XM,\n",
    "    s=hFMissed.xG_s,marker='H',facecolors=\"none\",\n",
    "    edgecolors=\"white\",zorder=zo)\n",
    "\n",
    "if len(hFSaved) > 0:\n",
    "    plt.scatter(hFSaved.YM_r, hFSaved.XM,\n",
    "    s=hFSaved.xG_s,marker='H',#c=hFSaved.colors,\n",
    "    edgecolors=\"white\",zorder=zo)\n",
    "    \n",
    "## Title\n",
    "plt.title(\"Randomly Generated Shots 2020\")\n",
    "\n",
    "## Show plot\n",
    "plt.show()"
   ]
  },
  {
   "cell_type": "code",
   "execution_count": null,
   "metadata": {},
   "outputs": [],
   "source": []
  },
  {
   "cell_type": "code",
   "execution_count": null,
   "metadata": {},
   "outputs": [],
   "source": []
  },
  {
   "cell_type": "code",
   "execution_count": 61,
   "metadata": {
    "scrolled": true
   },
   "outputs": [
    {
     "data": {
      "image/png": "[encoded data removed]",
      "text/plain": [
       "<Figure size 432x288 with 1 Axes>"
      ]
     },
     "metadata": {},
     "output_type": "display_data"
    }
   ],
   "source": [
    "# Draw the pitch\n",
    "(fig,ax) = createPitch(pitchLengthX,pitchWidthY,'yards','gray')"
   ]
  },
  {
   "cell_type": "code",
   "execution_count": 62,
   "metadata": {},
   "outputs": [],
   "source": [
    "shots = df_salah"
   ]
  },
  {
   "cell_type": "code",
   "execution_count": 63,
   "metadata": {},
   "outputs": [
    {
     "data": {
      "text/plain": [
       "minute                              18\n",
       "result                            Goal\n",
       "X                                0.933\n",
       "Y                                0.367\n",
       "xG                            0.366817\n",
       "player                   Mohamed Salah\n",
       "h_a                                  h\n",
       "player_id                         1250\n",
       "situation                     OpenPlay\n",
       "year                              2019\n",
       "shotType                      LeftFoot\n",
       "match_id                         11643\n",
       "h_team                       Liverpool\n",
       "a_team                         Norwich\n",
       "h_goals                              4\n",
       "a_goals                              1\n",
       "date               2019-08-09 20:00:00\n",
       "player_assisted        Roberto Firmino\n",
       "lastAction                        Pass\n",
       "Name: 309898, dtype: object"
      ]
     },
     "execution_count": 63,
     "metadata": {},
     "output_type": "execute_result"
    }
   ],
   "source": [
    "shots.iloc[0]"
   ]
  },
  {
   "cell_type": "code",
   "execution_count": 56,
   "metadata": {},
   "outputs": [
    {
     "ename": "TypeError",
     "evalue": "'float' object is not subscriptable",
     "output_type": "error",
     "traceback": [
      "\u001b[0;31m---------------------------------------------------------------------------\u001b[0m",
      "\u001b[0;31mTypeError\u001b[0m                                 Traceback (most recent call last)",
      "\u001b[0;32m<ipython-input-56-6e9e20b6ae34>\u001b[0m in \u001b[0;36m<module>\u001b[0;34m\u001b[0m\n\u001b[1;32m      1\u001b[0m \u001b[0;31m# Plot the shots\u001b[0m\u001b[0;34m\u001b[0m\u001b[0;34m\u001b[0m\u001b[0;34m\u001b[0m\u001b[0m\n\u001b[1;32m      2\u001b[0m \u001b[0;32mfor\u001b[0m \u001b[0mi\u001b[0m\u001b[0;34m,\u001b[0m\u001b[0mshot\u001b[0m \u001b[0;32min\u001b[0m \u001b[0mshots\u001b[0m\u001b[0;34m.\u001b[0m\u001b[0miterrows\u001b[0m\u001b[0;34m(\u001b[0m\u001b[0;34m)\u001b[0m\u001b[0;34m:\u001b[0m\u001b[0;34m\u001b[0m\u001b[0;34m\u001b[0m\u001b[0m\n\u001b[0;32m----> 3\u001b[0;31m     \u001b[0mx\u001b[0m\u001b[0;34m=\u001b[0m\u001b[0mshot\u001b[0m\u001b[0;34m[\u001b[0m\u001b[0;34m'X'\u001b[0m\u001b[0;34m]\u001b[0m\u001b[0;34m[\u001b[0m\u001b[0;36m0\u001b[0m\u001b[0;34m]\u001b[0m\u001b[0;34m\u001b[0m\u001b[0;34m\u001b[0m\u001b[0m\n\u001b[0m\u001b[1;32m      4\u001b[0m     \u001b[0my\u001b[0m\u001b[0;34m=\u001b[0m\u001b[0mshot\u001b[0m\u001b[0;34m[\u001b[0m\u001b[0;34m'Y'\u001b[0m\u001b[0;34m]\u001b[0m\u001b[0;34m[\u001b[0m\u001b[0;36m1\u001b[0m\u001b[0;34m]\u001b[0m\u001b[0;34m\u001b[0m\u001b[0;34m\u001b[0m\u001b[0m\n\u001b[1;32m      5\u001b[0m \u001b[0;34m\u001b[0m\u001b[0m\n",
      "\u001b[0;31mTypeError\u001b[0m: 'float' object is not subscriptable"
     ]
    }
   ],
   "source": [
    "# Plot the shots\n",
    "for i,shot in shots.iterrows():\n",
    "    x=shot['X'][0]\n",
    "    y=shot['Y'][1]\n",
    "    \n",
    "    goal=shot['result']=='Goal'\n",
    "    team_name=shot['team_name']\n",
    "    \n",
    "    circleSize=2\n",
    "    #circleSize=np.sqrt(shot['shot_statsbomb_xg']*15)\n",
    "\n",
    "    if (team_name==home_team_required):\n",
    "        if goal:\n",
    "            shotCircle=plt.Circle((x,pitchWidthY-y),circleSize,color=\"red\")\n",
    "            plt.text((x+1),pitchWidthY-y+1,shot['player']) \n",
    "        else:\n",
    "            shotCircle=plt.Circle((x,pitchWidthY-y),circleSize,color=\"red\")     \n",
    "            shotCircle.set_alpha(.2)\n",
    "    elif (team_name==away_team_required):\n",
    "        if goal:\n",
    "            shotCircle=plt.Circle((pitchLengthX-x,y),circleSize,color=\"blue\") \n",
    "            plt.text((pitchLengthX-x+1),y+1,shot['player']) \n",
    "        else:\n",
    "            shotCircle=plt.Circle((pitchLengthX-x,y),circleSize,color=\"blue\")      \n",
    "            shotCircle.set_alpha(.2)\n",
    "    ax.add_patch(shotCircle)\n",
    "    \n",
    "    \n",
    "plt.text(5,75,away_team_required + ' shots') \n",
    "plt.text(80,75,home_team_required + ' shots') \n",
    "     \n",
    "fig.set_size_inches(10, 7)\n",
    "fig.savefig(data_dir + '/img/fig/shots.png', dpi=100) \n",
    "plt.show()"
   ]
  },
  {
   "cell_type": "code",
   "execution_count": null,
   "metadata": {},
   "outputs": [],
   "source": []
  },
  {
   "cell_type": "code",
   "execution_count": null,
   "metadata": {},
   "outputs": [],
   "source": []
  },
  {
   "cell_type": "code",
   "execution_count": null,
   "metadata": {},
   "outputs": [],
   "source": []
  },
  {
   "cell_type": "markdown",
   "metadata": {},
   "source": [
    "### <a id='#section5.3'>5.3. </a>"
   ]
  },
  {
   "cell_type": "code",
   "execution_count": null,
   "metadata": {},
   "outputs": [],
   "source": []
  },
  {
   "cell_type": "code",
   "execution_count": null,
   "metadata": {},
   "outputs": [],
   "source": []
  },
  {
   "cell_type": "markdown",
   "metadata": {},
   "source": [
    "## <a id='#section6'>6. Summary</a>\n",
    "This notebooks aims to demonstrate what is it to conduct an EDA with a new set of data using [pandas](http://pandas.pydata.org/) to create DataFrames, clean, wrangle the data, and [matplotlib](https://matplotlib.org/contents.html?v=20200411155018) for data visualisations."
   ]
  },
  {
   "cell_type": "markdown",
   "metadata": {},
   "source": [
    "## <a id='#section7'>7. Next Steps</a>\n",
    "..."
   ]
  },
  {
   "cell_type": "markdown",
   "metadata": {},
   "source": [
    "## <a id='#section8'>8. References</a>"
   ]
  },
  {
   "cell_type": "markdown",
   "metadata": {},
   "source": [
    "### <a id='#section8.1'>8.1. Bibliography</a>\n",
    "\n",
    "#### Pass Maps\n",
    "*    Setting Up to do Data Science: https://www.youtube.com/watch?v=FZ_XTfezCH4\n",
    "*    Loading in and investigating World Cup data in Python: https://www.youtube.com/watch?v=GTtuOt03FM0\n",
    "*    Code to create a function that draws a football pitch in Python from FCPython: https://fcpython.com/visualisation/drawing-pitchmap-adding-lines-circles-matplotlib\n",
    "*    [Drawing a Pitchmap – Adding Lines & Circles in Matplotlib](https://fcpython.com/visualisation/drawing-pitchmap-adding-lines-circles-matplotlib)\n",
    "*    [Drawing a Pass Map in Python](https://fcpython.com/visualisation/drawing-pass-map-python)\n",
    "\n",
    "#### Understat\n",
    "*    https://steempeak.com/understat/@amosbastian/introducing-understat-a-python-package-for-revolutionary-football-metrics\n",
    "*    https://steempeak.com/understat/@amosbastian/a-small-update-to-understat\n",
    "*    https://github.com/amosbastian/understat\n",
    "*    https://understat.readthedocs.io/en/latest/"
   ]
  },
  {
   "cell_type": "markdown",
   "metadata": {},
   "source": [
    "## <a id='#section8.2'>8.2. Python Techniques Observed</a>\n",
    "To conduct our analysis, we have used the following libraries and modules for the following tasks:\n",
    "*    [NumPy](http://www.numpy.org/) for multidimensional array computing,\n",
    "*    [pandas](http://pandas.pydata.org/) for data manipulation and ingestion,\n",
    "*    [Seaborn](https://seaborn.pydata.org/) for plotting visualisations,\n",
    "*    [Beautifulsoup](https://www.crummy.com/software/BeautifulSoup/bs4/doc/) for scraping data from webpages, and\n",
    "*    [fuzzymatcher](https://github.com/RobinL/fuzzymatcher) for linking fuzzy datasets.\n",
    "\n",
    "We have also demonstrated an array of techniques in Python using the following methods and functions:\n",
    "*    pandas EDA methods:\n",
    "     +    [head()](https://pandas.pydata.org/pandas-docs/stable/reference/api/pandas.DataFrame.head.html),\n",
    "     +    [tail()](https://pandas.pydata.org/pandas-docs/stable/reference/api/pandas.DataFrame.tail.html),\n",
    "     +    [shape](https://pandas.pydata.org/pandas-docs/stable/reference/api/pandas.DataFrame.dtypes.html),\n",
    "     +    [columns](https://pandas.pydata.org/pandas-docs/stable/reference/api/pandas.DataFrame.columns.html),\n",
    "     +    [dtypes](https://pandas.pydata.org/pandas-docs/stable/reference/api/pandas.DataFrame.dtypes.html),\n",
    "     +    [info](https://pandas.pydata.org/pandas-docs/stable/reference/api/pandas.DataFrame.info.html), and\n",
    "     +    [describe](https://pandas.pydata.org/pandas-docs/stable/reference/api/pandas.DataFrame.describe.html).\n",
    "*    The [missingno](https://pypi.org/project/missingno/) library to visualise how many missing values we have in the dataset, and\n",
    "*    The pandas [.to_csv()](https://pandas.pydata.org/pandas-docs/stable/reference/api/pandas.DataFrame.to_csv.html) method to export the DataFrames as csv files."
   ]
  },
  {
   "cell_type": "markdown",
   "metadata": {},
   "source": [
    "---\n",
    "\n",
    "***Visit my website [EddWebster.com](https://www.eddwebster.com) or my [GitHub Repository](https://github.com/eddwebster) for more projects. If you'd like to get in contact, my Twitter handle is [@eddwebster](http://www.twitter.com/eddwebster) and my email is: edd.j.webster@gmail.com.***"
   ]
  },
  {
   "cell_type": "markdown",
   "metadata": {},
   "source": [
    "[Back to the top](#top)"
   ]
  }
 ],
 "metadata": {
  "kernelspec": {
   "display_name": "Python 3",
   "language": "python",
   "name": "python3"
  },
  "language_info": {
   "codemirror_mode": {
    "name": "ipython",
    "version": 3
   },
   "file_extension": ".py",
   "mimetype": "text/x-python",
   "name": "python",
   "nbconvert_exporter": "python",
   "pygments_lexer": "ipython3",
   "version": "3.7.6"
  },
  "varInspector": {
   "cols": {
    "lenName": 16,
    "lenType": 16,
    "lenVar": 40
   },
   "kernels_config": {
    "python": {
     "delete_cmd_postfix": "",
     "delete_cmd_prefix": "del ",
     "library": "var_list.py",
     "varRefreshCmd": "print(var_dic_list())"
    },
    "r": {
     "delete_cmd_postfix": ") ",
     "delete_cmd_prefix": "rm(",
     "library": "var_list.r",
     "varRefreshCmd": "cat(var_dic_list()) "
    }
   },
   "oldHeight": 642,
   "position": {
    "height": "664px",
    "left": "1119px",
    "right": "20px",
    "top": "-7px",
    "width": "489px"
   },
   "types_to_exclude": [
    "module",
    "function",
    "builtin_function_or_method",
    "instance",
    "_Feature"
   ],
   "varInspector_section_display": "block",
   "window_display": false
  }
 },
 "nbformat": 4,
 "nbformat_minor": 2
}
